{
 "cells": [
  {
   "cell_type": "code",
   "execution_count": null,
   "id": "df32b523-4887-40b1-bced-054e824e9914",
   "metadata": {},
   "outputs": [],
   "source": [
    "## library import\n",
    "import tensorflow as tf\n",
    "import pandas as pd\n",
    "import numpy as np\n",
    "import os\n",
    "import re\n",
    "from PIL import Image\n",
    "from glob import glob\n",
    "import shutil\n",
    "import xml.etree.ElementTree as et\n",
    "import random\n",
    "import matplotlib.pyplot as plt\n",
    "from matplotlib.patches import Rectangle"
   ]
  },
  {
   "cell_type": "code",
   "execution_count": null,
   "id": "ce0269ce-b650-4b13-8a88-2500878d9f59",
   "metadata": {},
   "outputs": [],
   "source": [
    "## oxford_pet.zip이 보이는지 확인\n",
    "glob('oxford_pet.zip')"
   ]
  },
  {
   "cell_type": "code",
   "execution_count": null,
   "id": "9c8cbfdc-3680-446e-a334-07e30ed2200c",
   "metadata": {},
   "outputs": [],
   "source": [
    "## 압축풀기\n",
    "if not os.path.exists('./oxford_pet'):\n",
    "  !unzip -q oxford_pet.zip -d oxford_pet"
   ]
  },
  {
   "cell_type": "code",
   "execution_count": null,
   "id": "8dfdf703-3a6f-41d7-aab5-102ab409da06",
   "metadata": {},
   "outputs": [],
   "source": [
    "## 압축이 풀린 directory 확인\n",
    "!ls oxford_pet"
   ]
  },
  {
   "cell_type": "code",
   "execution_count": null,
   "id": "96021bca-6d2a-4628-9de8-055b6a0f0dba",
   "metadata": {},
   "outputs": [],
   "source": [
    "## directory 정보\n",
    "cur_dir = os.getcwd()\n",
    "data_dir = os.path.join(cur_dir, 'oxford_pet')\n",
    "image_dir = os.path.join(data_dir, 'images')\n",
    "bbox_dir = os.path.join(data_dir, 'annotations', 'xmls')  # BBOX 정보\n",
    "seg_dir = os.path.join(data_dir, 'annotations', 'trimaps')  # Segmentation 정보"
   ]
  },
  {
   "cell_type": "code",
   "execution_count": null,
   "id": "08710811-1a6b-4c63-b542-6899dca46fcc",
   "metadata": {},
   "outputs": [],
   "source": [
    "print('data_dir:' ,data_dir)\n",
    "print('image_dir:' ,image_dir)\n",
    "print('bbox_dir:', bbox_dir)\n",
    "print('seg_dir:', seg_dir)"
   ]
  },
  {
   "cell_type": "code",
   "execution_count": null,
   "id": "5b5fa99a-641b-4350-8dc7-c478682374ac",
   "metadata": {},
   "outputs": [],
   "source": [
    "## image file 수 확인\n",
    "image_files = [fname for fname in glob(image_dir +  '/*.jpg') if os.path.splitext(fname)[-1] == '.jpg']\n",
    "print(len(image_files))"
   ]
  },
  {
   "cell_type": "code",
   "execution_count": null,
   "id": "24439706-21f1-498b-a8d2-0368621155d2",
   "metadata": {},
   "outputs": [],
   "source": [
    "## localization을 위한 annotation이 되어 있는 file의 수 확인\n",
    "## 위의 이미지 갯수보다 annotation XML 파일 갯수가 적다. annotation XML 파일을 기준으로 해야함.\n",
    "\n",
    "bbox_files = [fname for fname in glob(bbox_dir +  '/*.xml') if os.path.splitext(fname)[-1] == '.xml']\n",
    "len(bbox_files)"
   ]
  },
  {
   "cell_type": "code",
   "execution_count": null,
   "id": "d5158121-863b-4d12-bf24-b5bfbb47695e",
   "metadata": {},
   "outputs": [],
   "source": [
    "## 600 bbox와 매칭되는 이미지를 모우기 위한 새로운 폴더(new_images) 생성\n",
    "\n",
    "new_image_dir = os.path.join(data_dir, 'new_images')\n",
    "os.makedirs(new_image_dir, exist_ok=True)\n",
    "\n",
    "print('new_images:', new_image_dir)"
   ]
  },
  {
   "cell_type": "code",
   "execution_count": null,
   "id": "e3cf5eb7-b919-4de9-bd51-a27f52259f6e",
   "metadata": {},
   "outputs": [],
   "source": [
    "## 600 bbox 리스트 읽어 bbox 이름과 같은 이미지를 new_images 폴더에 복사한다.\n",
    "\n",
    "for bbox_filename in bbox_files:\n",
    "  bbox_filename = bbox_filename.split('/')[-1]\n",
    "  image_name = os.path.splitext(bbox_filename)[0]\n",
    "  image_file = image_dir + '/' + image_name + '.jpg'\n",
    "  # print(glob(image_file))\n",
    "  shutil.copy(image_file, new_image_dir)"
   ]
  },
  {
   "cell_type": "code",
   "execution_count": null,
   "id": "ffbf8059-7b66-404e-9924-403de72c27b6",
   "metadata": {},
   "outputs": [],
   "source": [
    "## new_images 폴더에 복사된 이미지 건수를 카운트한다.\n",
    "\n",
    "new_image_files = glob(new_image_dir + '/*')\n",
    "len(new_image_files)"
   ]
  },
  {
   "cell_type": "code",
   "execution_count": null,
   "id": "46cdafc7-01f5-40f4-b33f-1cd22298650d",
   "metadata": {},
   "outputs": [],
   "source": [
    "## 600개의 새로 복사된 이미지 리스트\n",
    "\n",
    "new_image_files[:10]"
   ]
  },
  {
   "cell_type": "code",
   "execution_count": null,
   "id": "850f8607-963f-4285-8cfa-322fa5282013",
   "metadata": {},
   "outputs": [],
   "source": [
    "## DataFrame 만들기\n",
    "\n",
    "pets_df = pd.DataFrame(new_image_files)\n",
    "pets_df"
   ]
  },
  {
   "cell_type": "code",
   "execution_count": null,
   "id": "cea0c9fb-72d9-4076-b816-1ea0fc063b0e",
   "metadata": {},
   "outputs": [],
   "source": [
    "## 컬럼명 입력\n",
    "\n",
    "pets_df.columns = ['full_path']\n",
    "pets_df.head(3)"
   ]
  },
  {
   "cell_type": "code",
   "execution_count": null,
   "id": "5f7cda6a-fffc-4372-8791-214384c52774",
   "metadata": {},
   "outputs": [],
   "source": [
    "## full_path 컬럼에서 이미지 이름을 분리하여 file_name 컬럼명에 저장\n",
    "\n",
    "pets_df['file_name'] = pets_df['full_path'].str.split('/').str[-1]\n",
    "pets_df.head(3)"
   ]
  },
  {
   "cell_type": "code",
   "execution_count": null,
   "id": "0b91c19e-241d-4043-85cd-0ddee6c80143",
   "metadata": {},
   "outputs": [],
   "source": [
    "## file_name 컬럼에서 라벨 분리하여 label 컬럼에 저장\n",
    "\n",
    "pets_df['label'] = pets_df['file_name'].str.replace('_\\d+','').str.split('.').str[0]"
   ]
  },
  {
   "cell_type": "code",
   "execution_count": null,
   "id": "37fd00c2-33f8-4147-bb0c-3690c92896f0",
   "metadata": {},
   "outputs": [],
   "source": [
    "pets_df.head(10)"
   ]
  },
  {
   "cell_type": "code",
   "execution_count": null,
   "id": "01b9d9f9-6fd4-4b11-90e6-e69e399d2be6",
   "metadata": {},
   "outputs": [],
   "source": [
    "## 이미지 파일명을 입력으로 받아, 같은 이름과 xml 확장자로, 그리고 xml 위치로 변경해서 리턴\n",
    "\n",
    "def name_convert(col):\n",
    "  bbox_fname = bbox_dir + '/' + col.replace('jpg','xml')\n",
    "  return bbox_fname"
   ]
  },
  {
   "cell_type": "code",
   "execution_count": null,
   "id": "a32f3e55-5d5b-446d-967d-d48f20db95a0",
   "metadata": {},
   "outputs": [],
   "source": [
    "## name_convert 함수 호출해서 이미지 파일명과 같은 이름의 xml 확장자로 만든다.\n",
    "\n",
    "pets_df['bbox_full_path'] = pets_df['file_name'].apply(name_convert)\n",
    "pets_df.head(3)"
   ]
  },
  {
   "cell_type": "code",
   "execution_count": null,
   "id": "2d46f254-cfe7-4ef8-99de-b84e2b62ee20",
   "metadata": {},
   "outputs": [],
   "source": [
    "## pets_df 데이터 구조 파악\n",
    "\n",
    "pets_df.info()"
   ]
  },
  {
   "cell_type": "code",
   "execution_count": null,
   "id": "57726180-e95c-4b9a-aac8-95373976c19f",
   "metadata": {},
   "outputs": [],
   "source": [
    "## label 분포 확인\n",
    "## 각 class마다 200개 이미지 구성\n",
    "\n",
    "pets_df['label'].value_counts()"
   ]
  },
  {
   "cell_type": "code",
   "execution_count": null,
   "id": "5cf18f47-75e5-448a-a160-173cff98cca8",
   "metadata": {},
   "outputs": [],
   "source": [
    "## bbox_full_path 컬럼의 첫번째 데이터 가져오고 해당 내용 보기\n",
    "\n",
    "sample_xml_file = pets_df.loc[0, 'bbox_full_path']\n",
    "print(sample_xml_file)\n",
    "\n",
    "!cat /content/oxford_pet/annotations/xmls/boxer_190.xml"
   ]
  },
  {
   "cell_type": "code",
   "execution_count": null,
   "id": "9c773067-ecce-482a-951e-877c58998521",
   "metadata": {},
   "outputs": [],
   "source": [
    "## 1. xml Annotation 파일 읽어 이지미 크기와 Bounding box 위치을 파악\n",
    "## 2. xmin, ymin, xmax, ymax 형태를  x, y(중앙), w, h 형태로 변환하여 저장\n",
    "\n",
    "def xml_annot_getxywh(xmlfile):\n",
    "  tree = et.parse(xmlfile)\n",
    "\n",
    "  width = float(tree.find('./size/width').text)\n",
    "  height = float(tree.find('./size/height').text)\n",
    "  xmin = float(tree.find('./object/bndbox/xmin').text)\n",
    "  ymin = float(tree.find('./object/bndbox/ymin').text)\n",
    "  xmax = float(tree.find('./object/bndbox/xmax').text)\n",
    "  ymax = float(tree.find('./object/bndbox/ymax').text)\n",
    "  xc = (xmin + xmax) / 2.\n",
    "  yc = (ymin + ymax) / 2.\n",
    "  x = xc / width\n",
    "  y = yc / height\n",
    "  w = (xmax - xmin) / width\n",
    "  h = (ymax - ymin) / height\n",
    "\n",
    "  return x, y, w, h"
   ]
  },
  {
   "cell_type": "code",
   "execution_count": null,
   "id": "091354b6-6bc6-4b32-80d3-3d7ada273071",
   "metadata": {},
   "outputs": [],
   "source": [
    "## 샘플 xml 파일에 대한 x, y, w, h 얻어오기\n",
    "\n",
    "xml_annot_getxywh(sample_xml_file)"
   ]
  },
  {
   "cell_type": "code",
   "execution_count": null,
   "id": "cb6c08e0-41d2-419f-90a3-32cd19bc299a",
   "metadata": {},
   "outputs": [],
   "source": [
    "pets_df"
   ]
  },
  {
   "cell_type": "code",
   "execution_count": null,
   "id": "2b31016e-4cf0-445e-8574-ab4337c0ae7b",
   "metadata": {},
   "outputs": [],
   "source": [
    "## xml Annot 파일의 x, y, w, h 위치 정보를 가져와 DataFrame에 저장한다.\n",
    "\n",
    "pets_df['xywh'] = pets_df['bbox_full_path'].apply(xml_annot_getxywh)\n",
    "pets_df.head()"
   ]
  },
  {
   "cell_type": "code",
   "execution_count": null,
   "id": "b1b0a3c7-6f13-4002-9600-8f82f1f1fc3d",
   "metadata": {},
   "outputs": [],
   "source": [
    "## 튜플로 저장된 xywh 컬럼 값들을 하나씩 x, y, w, h 컬럼에 저장한다.\n",
    "\n",
    "pets_df['x'] = pets_df['xywh'].str[0]\n",
    "pets_df['y'] = pets_df['xywh'].str[1]\n",
    "pets_df['w'] = pets_df['xywh'].str[2]\n",
    "pets_df['h'] = pets_df['xywh'].str[3]"
   ]
  },
  {
   "cell_type": "code",
   "execution_count": null,
   "id": "21600176-3a01-42a7-a6b9-16e802ed4fda",
   "metadata": {},
   "outputs": [],
   "source": [
    "pets_df"
   ]
  },
  {
   "cell_type": "code",
   "execution_count": null,
   "id": "98955fc8-6e9a-481a-bf02-b6892f3fcb0f",
   "metadata": {},
   "outputs": [],
   "source": [
    "## label에 대한 라벨인코딩 수행\n",
    "from sklearn.preprocessing import LabelEncoder\n",
    "\n",
    "le = LabelEncoder()\n",
    "pets_df['label_conv'] = le.fit_transform(pets_df['label'])\n",
    "le.classes_"
   ]
  },
  {
   "cell_type": "code",
   "execution_count": null,
   "id": "cc6fb858-6a21-49d5-ab75-e6801c1df521",
   "metadata": {},
   "outputs": [],
   "source": [
    "pets_df.head(3)"
   ]
  },
  {
   "cell_type": "code",
   "execution_count": null,
   "id": "cafb9cdf-8eba-4212-92c9-c3abcf4225cd",
   "metadata": {},
   "outputs": [],
   "source": [
    "## class와 idx 간의 변환\n",
    "\n",
    "class2idx = { label : idx for idx, label in enumerate(le.classes_) }\n",
    "idx2class = { idx :label for idx, label in enumerate(le.classes_) }"
   ]
  },
  {
   "cell_type": "code",
   "execution_count": null,
   "id": "e2e1403b-e184-4906-bae9-f173037cfa84",
   "metadata": {},
   "outputs": [],
   "source": [
    "print(class2idx)\n",
    "print(idx2class)"
   ]
  },
  {
   "cell_type": "code",
   "execution_count": null,
   "id": "14e72eb3-a1bb-4a17-8e79-f2e7e8b417e5",
   "metadata": {},
   "outputs": [],
   "source": [
    "## 이미지 패스 리스트 만들기\n",
    "\n",
    "images_list = pets_df['full_path'].values"
   ]
  },
  {
   "cell_type": "code",
   "execution_count": null,
   "id": "bcbfecf3-c698-4049-bdc5-d11b758c7ec8",
   "metadata": {},
   "outputs": [],
   "source": [
    "## 이미지 파일 리스트에서 이미지 패스로 해당 이미지 읽고 리스트에 넣는다.\n",
    "## 이미지 resize로 맞추지 않으면 뒤쪽에서 Tensor에러 발생한다.\n",
    "\n",
    "x_image_list = []\n",
    "\n",
    "for fname in images_list:\n",
    "  image = Image.open(fname)\n",
    "  image = image.resize((224,224))\n",
    "  image = np.array(image)\n",
    "\n",
    "  x_image_list.append(image)\n",
    "\n",
    "x_image_list = np.array(x_image_list)"
   ]
  },
  {
   "cell_type": "code",
   "execution_count": null,
   "id": "484826e4-db1c-42ab-88ab-6f66228e0d6c",
   "metadata": {},
   "outputs": [],
   "source": [
    "## 전체 이미지 리스트 형태 보기\n",
    "\n",
    "x_image_list.shape, type(x_image_list)"
   ]
  },
  {
   "cell_type": "code",
   "execution_count": null,
   "id": "4648ce1e-6e52-40b4-97de-d9cdb2592c69",
   "metadata": {},
   "outputs": [],
   "source": [
    "## 이미지 라벨값과 bbox 위치값을 같이 저장한다.\n",
    "\n",
    "y1_label = pets_df[['x', 'y', 'w', 'h', 'label_conv']].values"
   ]
  },
  {
   "cell_type": "code",
   "execution_count": null,
   "id": "d8ad8cd6-566a-4051-8f08-dedfd0d2999a",
   "metadata": {},
   "outputs": [],
   "source": [
    "y1_label[:4]"
   ]
  },
  {
   "cell_type": "code",
   "execution_count": null,
   "id": "58d0257f-8a11-4180-a471-e41298414193",
   "metadata": {},
   "outputs": [],
   "source": [
    "IMG_SIZE = 224\n",
    "N_BBOX = len(x_image_list)\n",
    "N_TRAIN = 500\n",
    "N_VAL = N_BBOX - N_TRAIN"
   ]
  },
  {
   "cell_type": "code",
   "execution_count": null,
   "id": "3bf7c6cd-54e5-4391-ab7b-2ff7588b58b6",
   "metadata": {},
   "outputs": [],
   "source": [
    "## Annotation XML 파일 갯수로 리스트 만들고 Shuffle하고 500개 Train set과 100개 Valid set으로 나눈다.\n",
    "\n",
    "shuffle_list = list(range(N_BBOX))\n",
    "random.shuffle(shuffle_list)\n",
    "\n",
    "train_idx_list = shuffle_list[:N_TRAIN]\n",
    "val_idx_list = shuffle_list[N_TRAIN:]"
   ]
  },
  {
   "cell_type": "code",
   "execution_count": null,
   "id": "c9bb630a-0bd2-412a-8d1c-20a469928310",
   "metadata": {},
   "outputs": [],
   "source": [
    "## Train set idx 보기\n",
    "train_idx_list[:10]"
   ]
  },
  {
   "cell_type": "code",
   "execution_count": null,
   "id": "2e916c97-27e3-4a8e-ae1b-f568c72ce7bc",
   "metadata": {},
   "outputs": [],
   "source": [
    "## train 데이터셋 만들기\n",
    "\n",
    "train_image_list = x_image_list[train_idx_list]\n",
    "train_label = y1_label[train_idx_list]"
   ]
  },
  {
   "cell_type": "code",
   "execution_count": null,
   "id": "57435999-79b4-41a4-91e0-894697061100",
   "metadata": {},
   "outputs": [],
   "source": [
    "train_image_list.shape, train_label.shape"
   ]
  },
  {
   "cell_type": "code",
   "execution_count": null,
   "id": "d9978bc8-9b5f-4b75-876c-767cc1cb08fc",
   "metadata": {},
   "outputs": [],
   "source": [
    "## valid 데이터셋 만들기\n",
    "\n",
    "valid_image_list = x_image_list[val_idx_list]\n",
    "valid_label = y1_label[val_idx_list]"
   ]
  },
  {
   "cell_type": "code",
   "execution_count": null,
   "id": "9d32b084-2acb-4ab4-8b99-64388cded879",
   "metadata": {},
   "outputs": [],
   "source": [
    "valid_image_list.shape, valid_label.shape"
   ]
  },
  {
   "cell_type": "code",
   "execution_count": null,
   "id": "77c9b608-672c-4528-9853-02ce4b6a17ec",
   "metadata": {},
   "outputs": [],
   "source": [
    "## Train / Valid Dataset 만들기\n",
    "\n",
    "train_dataset_image = tf.data.Dataset.from_tensor_slices((train_image_list, train_label))\n",
    "train_dataset = train_dataset_image.batch(16).shuffle(1000).repeat()\n",
    "\n",
    "valid_dataset_image = tf.data.Dataset.from_tensor_slices((valid_image_list, valid_label))\n",
    "valid_dataset = valid_dataset_image.batch(16).repeat()"
   ]
  },
  {
   "cell_type": "code",
   "execution_count": null,
   "id": "48066a80-da8d-4481-b460-f3441ad6e5c6",
   "metadata": {},
   "outputs": [],
   "source": [
    "## Hyper Parameters\n",
    "\n",
    "N_CLASS = len(class2idx)\n",
    "N_EPOCHS = 40\n",
    "N_BATCH = 16\n",
    "IMG_SIZE = 224\n",
    "learning_rate = 0.0001\n",
    "\n",
    "steps_per_epoch = N_TRAIN / N_BATCH\n",
    "validation_steps = int(np.ceil(N_VAL / N_BATCH))"
   ]
  },
  {
   "cell_type": "code",
   "execution_count": null,
   "id": "1c309956-d64d-4382-84e4-dcb920f6cc2c",
   "metadata": {},
   "outputs": [],
   "source": [
    "## valid_dataset에서 1개 가져와 분석해 보자\n",
    "## 이미지와 라벨로 받고 라벨은 다시 실제 라벨과 x,y,w,h 위치 값으로 나뉜다.\n",
    "\n",
    "for image, label in valid_dataset.take(1):\n",
    "  print(image.shape)\n",
    "  print(label.shape)\n",
    "  print(label[:, :4].shape)\n",
    "  print(label[:, -1].shape)\n",
    "  break\n"
   ]
  },
  {
   "cell_type": "code",
   "execution_count": null,
   "id": "e4e6b0c0-3704-4def-b886-031596c73d1a",
   "metadata": {},
   "outputs": [],
   "source": [
    "## valid dataset에서 1개의 image와 bbox, label 를 읽어서 확인\n",
    "\n",
    "cnt = 0\n",
    "for image, label in valid_dataset.take(1):\n",
    "\n",
    "    ''' matplotlib Rectangle 이용하여 사각형 그릴 경우,\n",
    "    그림을 그리기 위해서 bbox의 왼쪽 아래 (xmin, ymin) 꼭지점 좌표를 계산하고,\n",
    "    xmin, ymin, w, h 각각을 image size에 맞게 scaling'''\n",
    "\n",
    "    # x, y(중앙), w, h 형태를 xmin, ymin, w, h 형태로 변환해야 함.\n",
    "\n",
    "    x = label[:,0]\n",
    "    y = label[:,1]\n",
    "    w = label[:,2]\n",
    "    h = label[:,3]\n",
    "    classes = label[:,4].numpy()\n",
    "\n",
    "    xmin = x[0].numpy() - w[0].numpy()/2.\n",
    "    ymin = y[0].numpy() - h[0].numpy()/2.\n",
    "    rect_x = int(xmin * IMG_SIZE)\n",
    "    rect_y = int(ymin * IMG_SIZE)\n",
    "    rect_w = int(w[0].numpy() * IMG_SIZE)\n",
    "    rect_h = int(h[0].numpy() * IMG_SIZE)\n",
    "\n",
    "    ## 그림 그리기\n",
    "    rect = Rectangle((rect_x, rect_y), rect_w, rect_h, fill=False, color='red')\n",
    "    plt.axes().add_patch(rect)\n",
    "    plt.title(f'{classes[0]}, {idx2class[classes[0]]}')\n",
    "    plt.imshow(image[0])\n",
    "    plt.show()"
   ]
  },
  {
   "cell_type": "code",
   "execution_count": null,
   "id": "ee45af91-626a-4fee-97d4-1b1176471a39",
   "metadata": {},
   "outputs": [],
   "source": [
    "# Functional API를 사용하여 모델 생성\n",
    "# 입력과 출력 레이어에 이름 붙여주자!!!\n",
    "\n",
    "def create_model():\n",
    "\n",
    "    # 입력\n",
    "    inputs = tf.keras.layers.Input(shape=(IMG_SIZE, IMG_SIZE, 3), name='inputs')\n",
    "\n",
    "    # 컨볼루션\n",
    "    conv = tf.keras.layers.Conv2D(filters=256, kernel_size=3, activation='relu', padding='SAME', name='conv2d_layer_1')(inputs)\n",
    "    pool = tf.keras.layers.MaxPooling2D((2, 2), padding='SAME', name='maxpool_layer_1')(conv)\n",
    "\n",
    "    conv = tf.keras.layers.Conv2D(filters=128, kernel_size=3, activation='relu', padding='SAME', name='conv2d_layer_2')(inputs)\n",
    "    pool = tf.keras.layers.MaxPooling2D((2, 2), padding='SAME', name='maxpool_layer_2')(conv)\n",
    "\n",
    "    conv = tf.keras.layers.Conv2D(filters=64, kernel_size=3, activation='relu', padding='SAME', name='conv2d_layer_3')(inputs)\n",
    "    pool = tf.keras.layers.MaxPooling2D((2, 2), padding='SAME', name='maxpool_layer_3')(conv)\n",
    "\n",
    "    conv = tf.keras.layers.Conv2D(filters=64, kernel_size=3, activation='relu', padding='SAME', name='conv2d_layer_4')(inputs)\n",
    "    pool = tf.keras.layers.MaxPooling2D((2, 2), padding='SAME', name='maxpool_layer_4')(conv)\n",
    "    flat = tf.keras.layers.Flatten(name='flatten_layer')(pool)\n",
    "\n",
    "    # 출력\n",
    "    dense1 = tf.keras.layers.Dense(128, activation='relu')(flat)\n",
    "    outputs_xywh = tf.keras.layers.Dense(4, activation='sigmoid', name='get_xywh')(dense1)  # 4개 X, Y, W, H 좌표\n",
    "    outputs_classes = tf.keras.layers.Dense(N_CLASS, activation='softmax', name='get_classes')(dense1)  # 6개 클래스 레이블\n",
    "\n",
    "    concat = tf.keras.layers.Concatenate()([outputs_xywh, outputs_classes])  # 총 10개의 출력\n",
    "\n",
    "    # 모델\n",
    "    model = tf.keras.models.Model(inputs=inputs, outputs=concat)\n",
    "\n",
    "    return model\n"
   ]
  },
  {
   "cell_type": "code",
   "execution_count": null,
   "id": "99d7cf6e-5860-4362-bedd-67dbe7898fc0",
   "metadata": {},
   "outputs": [],
   "source": [
    "## Create model, compile & summary\n",
    "model = create_model()\n",
    "model.summary()"
   ]
  },
  {
   "cell_type": "code",
   "execution_count": null,
   "id": "7114bafc-87b8-4674-9d17-e8f3cbf109e9",
   "metadata": {},
   "outputs": [],
   "source": [
    "## 모델의 입력과 출력을 나타내는 텐서\n",
    "## model.output : (None, 10) ? --> 4개의 x, y, w, h 와 class 6개 one-hot-encoding\n",
    "\n",
    "print(model.input)\n",
    "print(model.output)"
   ]
  },
  {
   "cell_type": "code",
   "execution_count": null,
   "id": "e38bf2e4-741a-47d2-81bb-c66a148f72a2",
   "metadata": {},
   "outputs": [],
   "source": [
    "# 커스텀 Loss Function\n",
    "# 자동으로 y_true와 y_pred 두개 인자가 들어옴.\n",
    "# 정답과 예측값은 10개의 값들로 구성됨 : 앞 4개(X, Y, H, W) + 뒤 6개(원핫인코딩된 Class 종류)\n",
    "# 앞 4개(X, Y, H, W)와 뒤 6개(원핫인코딩된 Class 종류) 각각에 대해서 Loss 함수를 구하고 합쳐야 한다.\n",
    "# cls_labels는 정답으로 숫자 1자리로 되어 있어 one-hot-encoding 되어야 함(Sparse_categorical_crossentropy 필요)\n",
    "# 하지만, y_pred 경우 이미 6개 Class에 대해 one_hot_encoding 된 상태로 예측값을 주므로 인덱스 위치를 잘 찾아 비교해야함.\n",
    "\n",
    "def loss_fn(y_true, y_pred):\n",
    "  loc_labels = y_true[:,:4] # y_true[:,:4] -> 정답 bbox 4개 위치 값\n",
    "  # Selects all rows but only the first four columns of y_true\n",
    "  loc_preds = y_pred[:,:4] # y_pred[:,:4] -> 예측값 bbox 4개 위치 값\n",
    "\n",
    "  cls_labels = tf.cast(y_true[:,4:], tf.int64) # y_true[:, 4:] -> 정답 class 1개 값이어서 원핫인코딩 필요\n",
    "  cls_preds = y_pred[:,4:] # y_pred[:,4:] -> 예측값 class 1개값에 대해 이미 6개로 one-hot-encoding 되어 있음\n",
    "\n",
    "  loc_loss = tf.keras.losses.MeanSquaredError()(loc_labels, loc_preds)  # 회귀 : MSE\n",
    "  cls_loss = tf.keras.losses.SparseCategoricalCrossentropy()(cls_labels, cls_preds)  # 분류 : Crossentropy\n",
    "\n",
    "  # 2개의 loss 함쳐 리터\n",
    "  return cls_loss + 5*loc_loss"
   ]
  },
  {
   "cell_type": "code",
   "execution_count": null,
   "id": "9daa8f48-a0ea-492d-8330-574338e9ea2e",
   "metadata": {},
   "outputs": [],
   "source": [
    "# 모델 컴파일\n",
    "\n",
    "## learning rate scheduing\n",
    "lr_schedule = tf.keras.optimizers.schedules.ExponentialDecay(initial_learning_rate=learning_rate,\n",
    "                                                          decay_steps=steps_per_epoch*10,\n",
    "                                                          decay_rate=0.5,\n",
    "                                                          staircase=True)\n",
    "\n",
    "## optimizer는 RMSprop, loss는 mean squared error 사용\n",
    "model.compile(tf.keras.optimizers.RMSprop(lr_schedule, momentum=0.9), loss=loss_fn, metrics=['accuracy'])"
   ]
  },
  {
   "cell_type": "code",
   "execution_count": null,
   "id": "53cc8074-aab1-44b4-93c0-42b02d50f7ce",
   "metadata": {},
   "outputs": [],
   "source": [
    "## callbacks : EarlyStopping, ModelCheckpoint\n",
    "es = tf.keras.callbacks.EarlyStopping(monitor='val_loss', patience=3, verbose=1)\n",
    "mc = tf.keras.callbacks.ModelCheckpoint('best_model_{val_loss:.2f}.h5', monitor='val_loss', save_best_only=True, verbose=1)"
   ]
  },
  {
   "cell_type": "code",
   "execution_count": null,
   "id": "8354462d-df2e-46ea-9fe7-d5d2c3ff266d",
   "metadata": {},
   "outputs": [],
   "source": [
    "## Train!\n",
    "model.fit(train_dataset, steps_per_epoch=steps_per_epoch,\n",
    "         epochs=N_EPOCHS,\n",
    "         validation_data=valid_dataset,\n",
    "         validation_steps=validation_steps,\n",
    "         callbacks=[es, mc])\n"
   ]
  },
  {
   "cell_type": "markdown",
   "id": "348b7d26-04ba-4da3-8942-cd28e2f0cc81",
   "metadata": {},
   "source": [
    "### Pretrained model(MobileNetv2)"
   ]
  },
  {
   "cell_type": "code",
   "execution_count": null,
   "id": "014e6f10-f2bb-44db-a7cc-39575a73ea98",
   "metadata": {},
   "outputs": [],
   "source": [
    "from tensorflow.keras import models\n",
    "from tensorflow.keras.applications.mobilenet_v2 import MobileNetV2\n",
    "from tensorflow.keras.layers import Conv2D, ReLU, MaxPooling2D, Dense, BatchNormalization, GlobalAveragePooling2D"
   ]
  },
  {
   "cell_type": "code",
   "execution_count": null,
   "id": "e1082904-7574-4b5e-98bb-540ebea32b61",
   "metadata": {},
   "outputs": [],
   "source": [
    "mobilenetv2 = MobileNetV2(weights='imagenet', include_top=False, input_shape=(IMG_SIZE, IMG_SIZE, 3))"
   ]
  },
  {
   "cell_type": "code",
   "execution_count": null,
   "id": "fecd9104-c25f-4a5a-982c-5d34a52c830f",
   "metadata": {},
   "outputs": [],
   "source": [
    "mobilenetv2.summary()"
   ]
  },
  {
   "cell_type": "code",
   "execution_count": null,
   "id": "689a409a-49be-4fde-84a0-9bdd5b8dc2b0",
   "metadata": {},
   "outputs": [],
   "source": [
    "# Functional API를 사용하여 모델 생성\n",
    "# 입력과 출력 레이어에 이름 붙여주자!!!\n",
    "# Sigmoid: Maps  any real-valued input to a value between 0 and 1\n",
    "    # Using in binary-classificatiob tasks\n",
    "# Sigmoid squashes the network output into the 0 - 1 range, which matches the usual normalization of bounding-box values\n",
    "\n",
    "def create_mv_model():\n",
    "\n",
    "    # mobilenetv2\n",
    "    globalavgpool = tf.keras.layers.GlobalAveragePooling2D()(mobilenetv2.output)\n",
    "\n",
    "    # 출력\n",
    "    dense1 = tf.keras.layers.Dense(128, activation='relu')(globalavgpool)\n",
    "    outputs_xywh = tf.keras.layers.Dense(4, activation='sigmoid', name='get_xywh')(dense1)\n",
    "    outputs_classes = tf.keras.layers.Dense(N_CLASS, activation='softmax', name='get_classes')(dense1)\n",
    "\n",
    "    concat = tf.keras.layers.Concatenate()([outputs_xywh, outputs_classes])\n",
    "\n",
    "    # 모델\n",
    "    model = tf.keras.models.Model(inputs=mobilenetv2.input, outputs=concat)\n",
    "\n",
    "    return model"
   ]
  },
  {
   "cell_type": "code",
   "execution_count": null,
   "id": "5a8f1b9f-e979-449e-aee4-f3fff003ba89",
   "metadata": {},
   "outputs": [],
   "source": [
    "## Create model, compile & summary\n",
    "model = create_mv_model()\n",
    "model.summary()"
   ]
  },
  {
   "cell_type": "code",
   "execution_count": null,
   "id": "e0391185-41b0-47d7-91df-f791e297d341",
   "metadata": {},
   "outputs": [],
   "source": [
    "# 커스텀 Loss Function\n",
    "# 자동으로 y_true와 y_pred 두개 인자가 들어옴.\n",
    "# 정답과 예측값은 10개의 값들로 구성됨 : 앞 4개(X, Y, H, W) + 뒤 6개(원핫인코딩된 Class 종류)\n",
    "# 앞 4개(X, Y, H, W)와 뒤 6개(원핫인코딩된 Class 종류) 각각에 대해서 Loss 함수를 구하고 합쳐야 한다.\n",
    "# cls_labels는 정답으로 숫자 1자리로 되어 있어 one-hot-encoding 되어야 함(Sparse_categorical_crossentropy 필요)\n",
    "# 하지만, y_pred 경우 이미 6개 Class에 대해 one_hot_encoding 된 상태로 예측값을 주므로 인덱스 위치를 잘 찾아 비교해야함.\n",
    "\n",
    "def loss_fn(y_true, y_pred):\n",
    "  loc_labels = y_true[:,:4] # y_true[:,:4] -> 정답 bbox 4개 위치 값\n",
    "  loc_preds = y_pred[:,:4] # y_pred[:,:4] -> 예측값 bbox 4개 위치 값\n",
    "\n",
    "  cls_labels = tf.cast(y_true[:,4:], tf.int64) # y_true[:, 4:] -> 정답 class 1개 값이어서 원핫인코딩 필요\n",
    "  cls_preds = y_pred[:,4:] # y_pred[:,4:] -> 예측값 class 1개값에 대해 이미 6개로 one-hot-encoding 되어 있음\n",
    "\n",
    "  loc_loss = tf.keras.losses.MeanSquaredError()(loc_labels, loc_preds)  # 회귀 : MSE\n",
    "  cls_loss = tf.keras.losses.SparseCategoricalCrossentropy()(cls_labels, cls_preds)  # 분류 : Crossentropy\n",
    "\n",
    "  # 2개의 loss 함쳐 리터\n",
    "  return cls_loss + 5*loc_loss"
   ]
  },
  {
   "cell_type": "code",
   "execution_count": null,
   "id": "9e837c88-25f3-41aa-89cf-61426802d125",
   "metadata": {},
   "outputs": [],
   "source": [
    "# 모델 컴파일\n",
    "\n",
    "## learning rate scheduing\n",
    "lr_schedule = tf.keras.optimizers.schedules.ExponentialDecay(initial_learning_rate=learning_rate,\n",
    "                                                          decay_steps=steps_per_epoch*10,\n",
    "                                                          decay_rate=0.5,\n",
    "                                                          staircase=True)\n",
    "\n",
    "## optimizer는 RMSprop, loss는 mean squared error 사용\n",
    "model.compile(tf.keras.optimizers.RMSprop(lr_schedule, momentum=0.9), loss=loss_fn, metrics=['accuracy'])"
   ]
  },
  {
   "cell_type": "code",
   "execution_count": null,
   "id": "07484f46-9a2b-43cf-ba3c-51e9cdb07f99",
   "metadata": {},
   "outputs": [],
   "source": [
    "## callbacks : EarlyStopping, ModelCheckpoint\n",
    "es = tf.keras.callbacks.EarlyStopping(monitor='val_loss', patience=3, verbose=1)\n",
    "mc = tf.keras.callbacks.ModelCheckpoint('best_model_{val_loss:.2f}.h5', monitor='val_loss', save_best_only=True, verbose=1)"
   ]
  },
  {
   "cell_type": "code",
   "execution_count": null,
   "id": "68340a05-df28-4569-9ee3-551f3ad9f4c4",
   "metadata": {},
   "outputs": [],
   "source": [
    "## Train!\n",
    "model.fit(train_dataset, steps_per_epoch=steps_per_epoch,\n",
    "         epochs=N_EPOCHS,\n",
    "         validation_data=valid_dataset,\n",
    "         validation_steps=validation_steps,\n",
    "         callbacks=[es, mc])\n"
   ]
  },
  {
   "cell_type": "code",
   "execution_count": null,
   "id": "c8e3ac3a-2dd8-4740-bf83-2c691185b40f",
   "metadata": {},
   "outputs": [],
   "source": [
    "# validation data 일부 읽어와 예측해 보고 Class와 Bbox에 대한 정답과 예측 확인\n",
    "## 정답은 빨간색 box, 예측은 파란색 box\n",
    "\n",
    "idx = 2\n",
    "num_imgs = validation_steps\n",
    "\n",
    "# val_dataset 포맷: (None, 224, 224, 3), (None, 5)\n",
    "for val_data, val_gt in valid_dataset.take(num_imgs):\n",
    "\n",
    "    ## 정답 box 그리기\n",
    "    x = val_gt[:,0]\n",
    "    y = val_gt[:,1]\n",
    "    w = val_gt[:,2]\n",
    "    h = val_gt[:,3]\n",
    "    gt_class = val_gt[:,4]\n",
    "\n",
    "    gt_class_num = gt_class[idx]\n",
    "    xmin = x[idx].numpy() - w[idx].numpy()/2.\n",
    "    ymin = y[idx].numpy() - h[idx].numpy()/2.\n",
    "    rect_x = int(xmin * IMG_SIZE)\n",
    "    rect_y = int(ymin * IMG_SIZE)\n",
    "    rect_w = int(w[idx].numpy() * IMG_SIZE)\n",
    "    rect_h = int(h[idx].numpy() * IMG_SIZE)\n",
    "\n",
    "    rect = Rectangle((rect_x, rect_y), rect_w, rect_h, fill=False, color='red')\n",
    "    plt.axes().add_patch(rect)\n",
    "\n",
    "    ## 예측 box 그리기\n",
    "    ## validation set에 대해서 bounding box 예측\n",
    "    prediction = model.predict(val_data) # prediction.shape : (None, 10)\n",
    "    pred_x = prediction[:,0]\n",
    "    pred_y = prediction[:,1]\n",
    "    pred_w = prediction[:,2]\n",
    "    pred_h = prediction[:,3]\n",
    "    pred_class = np.argmax(prediction[:,4:], axis=1)\n",
    "\n",
    "    pred_class_num = pred_class[idx]\n",
    "    pred_xmin = pred_x[idx] - pred_w[idx]/2.\n",
    "    pred_ymin = pred_y[idx] - pred_h[idx]/2.\n",
    "    pred_rect_x = int(pred_xmin * IMG_SIZE)\n",
    "    pred_rect_y = int(pred_ymin * IMG_SIZE)\n",
    "    pred_rect_w = int(pred_w[idx] * IMG_SIZE)\n",
    "    pred_rect_h = int(pred_h[idx] * IMG_SIZE)\n",
    "\n",
    "    pred_rect = Rectangle((pred_rect_x, pred_rect_y), pred_rect_w, pred_rect_h,\n",
    "                         fill=False, color='blue')\n",
    "    plt.axes().add_patch(pred_rect)\n",
    "\n",
    "    ## image와 bbox 함께 출력\n",
    "    plt.title(f'GT : {gt_class_num}, Pred : {pred_class_num}')\n",
    "    plt.imshow(val_data[idx])\n",
    "    plt.show()"
   ]
  },
  {
   "cell_type": "code",
   "execution_count": null,
   "id": "da98da92-292a-4cb6-b3fa-5375b12613c2",
   "metadata": {},
   "outputs": [],
   "source": []
  },
  {
   "cell_type": "code",
   "execution_count": null,
   "id": "a29c2126-5b4c-40e9-afe3-b6181d8a66c9",
   "metadata": {},
   "outputs": [],
   "source": []
  },
  {
   "cell_type": "code",
   "execution_count": null,
   "id": "21605f75-68fe-458d-8279-7e43c43d78fa",
   "metadata": {},
   "outputs": [],
   "source": []
  },
  {
   "cell_type": "code",
   "execution_count": null,
   "id": "85bf24d8-0231-407b-bd06-6f07f638c069",
   "metadata": {},
   "outputs": [],
   "source": []
  },
  {
   "cell_type": "code",
   "execution_count": null,
   "id": "93e4d9ed-4695-44cc-8ebf-46d5a73067f9",
   "metadata": {},
   "outputs": [],
   "source": []
  },
  {
   "cell_type": "code",
   "execution_count": null,
   "id": "1293d3d5-04c5-4728-a9a8-ebd1639845bf",
   "metadata": {},
   "outputs": [],
   "source": []
  },
  {
   "cell_type": "code",
   "execution_count": null,
   "id": "9f0d509b-a3f8-4099-8ff2-8f4c64ea6bf1",
   "metadata": {},
   "outputs": [],
   "source": []
  }
 ],
 "metadata": {
  "kernelspec": {
   "display_name": "Python [conda env:base]",
   "language": "python",
   "name": "conda-base-py"
  },
  "language_info": {
   "codemirror_mode": {
    "name": "ipython",
    "version": 3
   },
   "file_extension": ".py",
   "mimetype": "text/x-python",
   "name": "python",
   "nbconvert_exporter": "python",
   "pygments_lexer": "ipython3",
   "version": "3.12.7"
  }
 },
 "nbformat": 4,
 "nbformat_minor": 5
}
