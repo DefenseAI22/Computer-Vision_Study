{
 "cells": [
  {
   "cell_type": "code",
   "execution_count": 2,
   "id": "c6e190aa-e62e-454b-ae4f-abd462e8b11d",
   "metadata": {},
   "outputs": [],
   "source": [
    "import tensorflow as tf\n",
    "import numpy as np\n",
    "import pandas as pd\n",
    "import matplotlib.pyplot as plt"
   ]
  },
  {
   "cell_type": "code",
   "execution_count": 4,
   "id": "bee95b98-cbbf-42aa-b08a-6a614a1cccde",
   "metadata": {},
   "outputs": [],
   "source": [
    "mnist = tf.keras.datasets.mnist\n",
    "(x_train, y_train), (x_test, y_test) = mnist.load_data()\n",
    "x_train, x_test = x_train / 255.0, x_test / 255.0"
   ]
  },
  {
   "cell_type": "code",
   "execution_count": 6,
   "id": "3deb5129-f4d4-4358-9c41-bc35a8394b9d",
   "metadata": {},
   "outputs": [
    {
     "data": {
      "text/plain": [
       "((60000, 28, 28), (10000, 28, 28))"
      ]
     },
     "execution_count": 6,
     "metadata": {},
     "output_type": "execute_result"
    }
   ],
   "source": [
    "x_train.shape, x_test.shape"
   ]
  },
  {
   "cell_type": "code",
   "execution_count": 8,
   "id": "ff2b7593-adfe-4a8c-b712-494f00173dae",
   "metadata": {},
   "outputs": [
    {
     "data": {
      "text/plain": [
       "((60000,), (10000,))"
      ]
     },
     "execution_count": 8,
     "metadata": {},
     "output_type": "execute_result"
    }
   ],
   "source": [
    "y_train.shape, y_test.shape"
   ]
  },
  {
   "cell_type": "code",
   "execution_count": 10,
   "id": "e1992a4b-24f7-48bf-bd94-5ab6a6d18ee0",
   "metadata": {},
   "outputs": [],
   "source": [
    "# CNN 입력 구조: 4차원: Batch x Heigh x Width x Channel\n",
    "\n",
    "from tensorflow.keras.models import Sequential\n",
    "from tensorflow.keras.layers import Dense, Dropout, Flatten, Conv2D, MaxPooling2D"
   ]
  },
  {
   "cell_type": "code",
   "execution_count": 12,
   "id": "7dc202fb-33dc-4a71-9997-b06050e35c51",
   "metadata": {},
   "outputs": [
    {
     "data": {
      "text/plain": [
       "((60000, 28, 28, 1), (10000, 28, 28, 1))"
      ]
     },
     "execution_count": 12,
     "metadata": {},
     "output_type": "execute_result"
    }
   ],
   "source": [
    "# 28 x 28 shape를 CNN 모델에 입력으로 주기 위해 28 x 28 x 1 shape 변경: 채널 추가\n",
    "\n",
    "# x_train = x_train.reshape(x_train.shape[0], 28, 28, 1)\n",
    "# x_test = x_test.reshape(x_test.shape[0], 28, 28, 1)\n",
    "\n",
    "x_train = x_train[..., tf.newaxis]\n",
    "x_test = x_test[..., tf.newaxis]\n",
    "\n",
    "x_train.shape, x_test.shape"
   ]
  },
  {
   "cell_type": "code",
   "execution_count": 20,
   "id": "fda7c976-2f2f-44f6-83a3-abe17130873a",
   "metadata": {
    "scrolled": true
   },
   "outputs": [],
   "source": [
    "model = Sequential()\n",
    "model.add(Conv2D(32, kernel_size = (5,5), strides = (1,1), padding = 'same',\n",
    "                activation='relu',\n",
    "                input_shape = (28, 28, 1))) # 28 x 28 x 32\n",
    "model.add(MaxPooling2D(pool_size=(2, 2), strides = (2, 2))) # 14 x 14 x 32\n",
    "model.add(Conv2D(64, (2, 2), activation='relu', padding = 'same')) #14 x 14 x 64\n",
    "model.add(MaxPooling2D(pool_size = (2, 2))) # 7 x 7 x 64\n",
    "model.add(Dropout(0.2))\n",
    "model.add(Flatten()) # 3136\n",
    "model.add(Dense(128, activation = 'relu'))\n",
    "model.add(Dropout(0.3))\n",
    "model.add(Dense(10, activation = 'softmax'))"
   ]
  },
  {
   "cell_type": "code",
   "execution_count": 22,
   "id": "fabccafb-3a83-42f4-bc11-c423e7e872de",
   "metadata": {},
   "outputs": [
    {
     "data": {
      "text/html": [
       "<pre style=\"white-space:pre;overflow-x:auto;line-height:normal;font-family:Menlo,'DejaVu Sans Mono',consolas,'Courier New',monospace\"><span style=\"font-weight: bold\">Model: \"sequential_2\"</span>\n",
       "</pre>\n"
      ],
      "text/plain": [
       "\u001b[1mModel: \"sequential_2\"\u001b[0m\n"
      ]
     },
     "metadata": {},
     "output_type": "display_data"
    },
    {
     "data": {
      "text/html": [
       "<pre style=\"white-space:pre;overflow-x:auto;line-height:normal;font-family:Menlo,'DejaVu Sans Mono',consolas,'Courier New',monospace\">┏━━━━━━━━━━━━━━━━━━━━━━━━━━━━━━━━━┳━━━━━━━━━━━━━━━━━━━━━━━━┳━━━━━━━━━━━━━━━┓\n",
       "┃<span style=\"font-weight: bold\"> Layer (type)                    </span>┃<span style=\"font-weight: bold\"> Output Shape           </span>┃<span style=\"font-weight: bold\">       Param # </span>┃\n",
       "┡━━━━━━━━━━━━━━━━━━━━━━━━━━━━━━━━━╇━━━━━━━━━━━━━━━━━━━━━━━━╇━━━━━━━━━━━━━━━┩\n",
       "│ conv2d_2 (<span style=\"color: #0087ff; text-decoration-color: #0087ff\">Conv2D</span>)               │ (<span style=\"color: #00d7ff; text-decoration-color: #00d7ff\">None</span>, <span style=\"color: #00af00; text-decoration-color: #00af00\">28</span>, <span style=\"color: #00af00; text-decoration-color: #00af00\">28</span>, <span style=\"color: #00af00; text-decoration-color: #00af00\">32</span>)     │           <span style=\"color: #00af00; text-decoration-color: #00af00\">832</span> │\n",
       "├─────────────────────────────────┼────────────────────────┼───────────────┤\n",
       "│ max_pooling2d (<span style=\"color: #0087ff; text-decoration-color: #0087ff\">MaxPooling2D</span>)    │ (<span style=\"color: #00d7ff; text-decoration-color: #00d7ff\">None</span>, <span style=\"color: #00af00; text-decoration-color: #00af00\">14</span>, <span style=\"color: #00af00; text-decoration-color: #00af00\">14</span>, <span style=\"color: #00af00; text-decoration-color: #00af00\">32</span>)     │             <span style=\"color: #00af00; text-decoration-color: #00af00\">0</span> │\n",
       "├─────────────────────────────────┼────────────────────────┼───────────────┤\n",
       "│ conv2d_3 (<span style=\"color: #0087ff; text-decoration-color: #0087ff\">Conv2D</span>)               │ (<span style=\"color: #00d7ff; text-decoration-color: #00d7ff\">None</span>, <span style=\"color: #00af00; text-decoration-color: #00af00\">14</span>, <span style=\"color: #00af00; text-decoration-color: #00af00\">14</span>, <span style=\"color: #00af00; text-decoration-color: #00af00\">64</span>)     │         <span style=\"color: #00af00; text-decoration-color: #00af00\">8,256</span> │\n",
       "├─────────────────────────────────┼────────────────────────┼───────────────┤\n",
       "│ max_pooling2d_1 (<span style=\"color: #0087ff; text-decoration-color: #0087ff\">MaxPooling2D</span>)  │ (<span style=\"color: #00d7ff; text-decoration-color: #00d7ff\">None</span>, <span style=\"color: #00af00; text-decoration-color: #00af00\">7</span>, <span style=\"color: #00af00; text-decoration-color: #00af00\">7</span>, <span style=\"color: #00af00; text-decoration-color: #00af00\">64</span>)       │             <span style=\"color: #00af00; text-decoration-color: #00af00\">0</span> │\n",
       "├─────────────────────────────────┼────────────────────────┼───────────────┤\n",
       "│ dropout (<span style=\"color: #0087ff; text-decoration-color: #0087ff\">Dropout</span>)               │ (<span style=\"color: #00d7ff; text-decoration-color: #00d7ff\">None</span>, <span style=\"color: #00af00; text-decoration-color: #00af00\">7</span>, <span style=\"color: #00af00; text-decoration-color: #00af00\">7</span>, <span style=\"color: #00af00; text-decoration-color: #00af00\">64</span>)       │             <span style=\"color: #00af00; text-decoration-color: #00af00\">0</span> │\n",
       "├─────────────────────────────────┼────────────────────────┼───────────────┤\n",
       "│ flatten (<span style=\"color: #0087ff; text-decoration-color: #0087ff\">Flatten</span>)               │ (<span style=\"color: #00d7ff; text-decoration-color: #00d7ff\">None</span>, <span style=\"color: #00af00; text-decoration-color: #00af00\">3136</span>)           │             <span style=\"color: #00af00; text-decoration-color: #00af00\">0</span> │\n",
       "├─────────────────────────────────┼────────────────────────┼───────────────┤\n",
       "│ dense (<span style=\"color: #0087ff; text-decoration-color: #0087ff\">Dense</span>)                   │ (<span style=\"color: #00d7ff; text-decoration-color: #00d7ff\">None</span>, <span style=\"color: #00af00; text-decoration-color: #00af00\">128</span>)            │       <span style=\"color: #00af00; text-decoration-color: #00af00\">401,536</span> │\n",
       "├─────────────────────────────────┼────────────────────────┼───────────────┤\n",
       "│ dropout_1 (<span style=\"color: #0087ff; text-decoration-color: #0087ff\">Dropout</span>)             │ (<span style=\"color: #00d7ff; text-decoration-color: #00d7ff\">None</span>, <span style=\"color: #00af00; text-decoration-color: #00af00\">128</span>)            │             <span style=\"color: #00af00; text-decoration-color: #00af00\">0</span> │\n",
       "├─────────────────────────────────┼────────────────────────┼───────────────┤\n",
       "│ dense_1 (<span style=\"color: #0087ff; text-decoration-color: #0087ff\">Dense</span>)                 │ (<span style=\"color: #00d7ff; text-decoration-color: #00d7ff\">None</span>, <span style=\"color: #00af00; text-decoration-color: #00af00\">10</span>)             │         <span style=\"color: #00af00; text-decoration-color: #00af00\">1,290</span> │\n",
       "└─────────────────────────────────┴────────────────────────┴───────────────┘\n",
       "</pre>\n"
      ],
      "text/plain": [
       "┏━━━━━━━━━━━━━━━━━━━━━━━━━━━━━━━━━┳━━━━━━━━━━━━━━━━━━━━━━━━┳━━━━━━━━━━━━━━━┓\n",
       "┃\u001b[1m \u001b[0m\u001b[1mLayer (type)                   \u001b[0m\u001b[1m \u001b[0m┃\u001b[1m \u001b[0m\u001b[1mOutput Shape          \u001b[0m\u001b[1m \u001b[0m┃\u001b[1m \u001b[0m\u001b[1m      Param #\u001b[0m\u001b[1m \u001b[0m┃\n",
       "┡━━━━━━━━━━━━━━━━━━━━━━━━━━━━━━━━━╇━━━━━━━━━━━━━━━━━━━━━━━━╇━━━━━━━━━━━━━━━┩\n",
       "│ conv2d_2 (\u001b[38;5;33mConv2D\u001b[0m)               │ (\u001b[38;5;45mNone\u001b[0m, \u001b[38;5;34m28\u001b[0m, \u001b[38;5;34m28\u001b[0m, \u001b[38;5;34m32\u001b[0m)     │           \u001b[38;5;34m832\u001b[0m │\n",
       "├─────────────────────────────────┼────────────────────────┼───────────────┤\n",
       "│ max_pooling2d (\u001b[38;5;33mMaxPooling2D\u001b[0m)    │ (\u001b[38;5;45mNone\u001b[0m, \u001b[38;5;34m14\u001b[0m, \u001b[38;5;34m14\u001b[0m, \u001b[38;5;34m32\u001b[0m)     │             \u001b[38;5;34m0\u001b[0m │\n",
       "├─────────────────────────────────┼────────────────────────┼───────────────┤\n",
       "│ conv2d_3 (\u001b[38;5;33mConv2D\u001b[0m)               │ (\u001b[38;5;45mNone\u001b[0m, \u001b[38;5;34m14\u001b[0m, \u001b[38;5;34m14\u001b[0m, \u001b[38;5;34m64\u001b[0m)     │         \u001b[38;5;34m8,256\u001b[0m │\n",
       "├─────────────────────────────────┼────────────────────────┼───────────────┤\n",
       "│ max_pooling2d_1 (\u001b[38;5;33mMaxPooling2D\u001b[0m)  │ (\u001b[38;5;45mNone\u001b[0m, \u001b[38;5;34m7\u001b[0m, \u001b[38;5;34m7\u001b[0m, \u001b[38;5;34m64\u001b[0m)       │             \u001b[38;5;34m0\u001b[0m │\n",
       "├─────────────────────────────────┼────────────────────────┼───────────────┤\n",
       "│ dropout (\u001b[38;5;33mDropout\u001b[0m)               │ (\u001b[38;5;45mNone\u001b[0m, \u001b[38;5;34m7\u001b[0m, \u001b[38;5;34m7\u001b[0m, \u001b[38;5;34m64\u001b[0m)       │             \u001b[38;5;34m0\u001b[0m │\n",
       "├─────────────────────────────────┼────────────────────────┼───────────────┤\n",
       "│ flatten (\u001b[38;5;33mFlatten\u001b[0m)               │ (\u001b[38;5;45mNone\u001b[0m, \u001b[38;5;34m3136\u001b[0m)           │             \u001b[38;5;34m0\u001b[0m │\n",
       "├─────────────────────────────────┼────────────────────────┼───────────────┤\n",
       "│ dense (\u001b[38;5;33mDense\u001b[0m)                   │ (\u001b[38;5;45mNone\u001b[0m, \u001b[38;5;34m128\u001b[0m)            │       \u001b[38;5;34m401,536\u001b[0m │\n",
       "├─────────────────────────────────┼────────────────────────┼───────────────┤\n",
       "│ dropout_1 (\u001b[38;5;33mDropout\u001b[0m)             │ (\u001b[38;5;45mNone\u001b[0m, \u001b[38;5;34m128\u001b[0m)            │             \u001b[38;5;34m0\u001b[0m │\n",
       "├─────────────────────────────────┼────────────────────────┼───────────────┤\n",
       "│ dense_1 (\u001b[38;5;33mDense\u001b[0m)                 │ (\u001b[38;5;45mNone\u001b[0m, \u001b[38;5;34m10\u001b[0m)             │         \u001b[38;5;34m1,290\u001b[0m │\n",
       "└─────────────────────────────────┴────────────────────────┴───────────────┘\n"
      ]
     },
     "metadata": {},
     "output_type": "display_data"
    },
    {
     "data": {
      "text/html": [
       "<pre style=\"white-space:pre;overflow-x:auto;line-height:normal;font-family:Menlo,'DejaVu Sans Mono',consolas,'Courier New',monospace\"><span style=\"font-weight: bold\"> Total params: </span><span style=\"color: #00af00; text-decoration-color: #00af00\">411,914</span> (1.57 MB)\n",
       "</pre>\n"
      ],
      "text/plain": [
       "\u001b[1m Total params: \u001b[0m\u001b[38;5;34m411,914\u001b[0m (1.57 MB)\n"
      ]
     },
     "metadata": {},
     "output_type": "display_data"
    },
    {
     "data": {
      "text/html": [
       "<pre style=\"white-space:pre;overflow-x:auto;line-height:normal;font-family:Menlo,'DejaVu Sans Mono',consolas,'Courier New',monospace\"><span style=\"font-weight: bold\"> Trainable params: </span><span style=\"color: #00af00; text-decoration-color: #00af00\">411,914</span> (1.57 MB)\n",
       "</pre>\n"
      ],
      "text/plain": [
       "\u001b[1m Trainable params: \u001b[0m\u001b[38;5;34m411,914\u001b[0m (1.57 MB)\n"
      ]
     },
     "metadata": {},
     "output_type": "display_data"
    },
    {
     "data": {
      "text/html": [
       "<pre style=\"white-space:pre;overflow-x:auto;line-height:normal;font-family:Menlo,'DejaVu Sans Mono',consolas,'Courier New',monospace\"><span style=\"font-weight: bold\"> Non-trainable params: </span><span style=\"color: #00af00; text-decoration-color: #00af00\">0</span> (0.00 B)\n",
       "</pre>\n"
      ],
      "text/plain": [
       "\u001b[1m Non-trainable params: \u001b[0m\u001b[38;5;34m0\u001b[0m (0.00 B)\n"
      ]
     },
     "metadata": {},
     "output_type": "display_data"
    }
   ],
   "source": [
    "model.summary()"
   ]
  },
  {
   "cell_type": "code",
   "execution_count": 34,
   "id": "a2c5b0a2-13d6-4f83-8091-0f5c1b84b930",
   "metadata": {},
   "outputs": [
    {
     "data": {
      "text/plain": [
       "(None, 28, 28, 1)"
      ]
     },
     "execution_count": 34,
     "metadata": {},
     "output_type": "execute_result"
    }
   ],
   "source": [
    "# 모델 입력\n",
    "model.input_shape"
   ]
  },
  {
   "cell_type": "code",
   "execution_count": 36,
   "id": "efeab2f6-6bd0-403a-ba35-f3706a8a3b59",
   "metadata": {},
   "outputs": [
    {
     "data": {
      "text/plain": [
       "(None, 10)"
      ]
     },
     "execution_count": 36,
     "metadata": {},
     "output_type": "execute_result"
    }
   ],
   "source": [
    "model.output_shape"
   ]
  },
  {
   "cell_type": "code",
   "execution_count": 28,
   "id": "d127cb02-ced4-46c3-8d40-ca1fab3cecd5",
   "metadata": {},
   "outputs": [
    {
     "data": {
      "text/plain": [
       "[<Conv2D name=conv2d_2, built=True>,\n",
       " <MaxPooling2D name=max_pooling2d, built=True>,\n",
       " <Conv2D name=conv2d_3, built=True>,\n",
       " <MaxPooling2D name=max_pooling2d_1, built=True>,\n",
       " <Dropout name=dropout, built=True>,\n",
       " <Flatten name=flatten, built=True>,\n",
       " <Dense name=dense, built=True>,\n",
       " <Dropout name=dropout_1, built=True>,\n",
       " <Dense name=dense_1, built=True>]"
      ]
     },
     "execution_count": 28,
     "metadata": {},
     "output_type": "execute_result"
    }
   ],
   "source": [
    "model.layers"
   ]
  },
  {
   "cell_type": "code",
   "execution_count": 38,
   "id": "04f55097-5ceb-4069-bdd1-f436bb7e7453",
   "metadata": {},
   "outputs": [
    {
     "data": {
      "text/plain": [
       "<Conv2D name=conv2d_2, built=True>"
      ]
     },
     "execution_count": 38,
     "metadata": {},
     "output_type": "execute_result"
    }
   ],
   "source": [
    "model.layers[0]"
   ]
  },
  {
   "cell_type": "code",
   "execution_count": 40,
   "id": "f57da628-86bb-49de-bb5a-d9043ad24de4",
   "metadata": {},
   "outputs": [
    {
     "data": {
      "text/plain": [
       "<KerasTensor shape=(None, 28, 28, 1), dtype=float32, sparse=False, ragged=False, name=keras_tensor>"
      ]
     },
     "execution_count": 40,
     "metadata": {},
     "output_type": "execute_result"
    }
   ],
   "source": [
    "model.layers[0].input"
   ]
  },
  {
   "cell_type": "code",
   "execution_count": 44,
   "id": "87ef827a-2502-47b4-b8c4-d6c1cc194e1c",
   "metadata": {},
   "outputs": [
    {
     "data": {
      "text/plain": [
       "<KerasTensor shape=(None, 28, 28, 32), dtype=float32, sparse=False, ragged=False, name=keras_tensor_1>"
      ]
     },
     "execution_count": 44,
     "metadata": {},
     "output_type": "execute_result"
    }
   ],
   "source": [
    "# 모델 첫 번째 레이어 Cov2D의 출력: 32개 필터 출력\n",
    "model.layers[0].output"
   ]
  },
  {
   "cell_type": "code",
   "execution_count": 48,
   "id": "f9214f33-d695-4eb6-b7a6-67372830605b",
   "metadata": {
    "scrolled": true
   },
   "outputs": [
    {
     "data": {
      "text/plain": [
       "[<Variable path=sequential_2/conv2d_2/kernel, shape=(5, 5, 1, 32), dtype=float32, value=[[[[ 0.02832044 -0.0791266   0.05291848 -0.07525799  0.01817656\n",
       "     -0.00155057  0.05782741 -0.0800917   0.03412904 -0.04910656\n",
       "      0.07207231 -0.05431525  0.07850803  0.01188567 -0.00907926\n",
       "     -0.02374532  0.06997778 -0.01511462 -0.02318815  0.03399444\n",
       "      0.00956412  0.03223733 -0.00537892  0.03504609 -0.07643097\n",
       "     -0.01712523 -0.04198123  0.01187195  0.01158656 -0.04073357\n",
       "      0.06757443  0.06515259]]\n",
       " \n",
       "   [[ 0.07398343 -0.07350379  0.0439357   0.04178128 -0.07541709\n",
       "      0.03505711 -0.06075857  0.06369334 -0.01161052 -0.00915033\n",
       "     -0.01914588 -0.03112373 -0.03057103  0.03317335  0.07094698\n",
       "     -0.06740196 -0.06129923 -0.05857491 -0.05800927 -0.00228611\n",
       "      0.06479801  0.02058243  0.00986651  0.02992359  0.05143312\n",
       "     -0.06537982  0.07306433  0.02104237 -0.08047224  0.01988512\n",
       "     -0.01937875 -0.07358135]]\n",
       " \n",
       "   [[-0.07973979 -0.08517655  0.01315864 -0.07758075  0.02237416\n",
       "      0.03303794 -0.08526788 -0.03815347  0.05697022 -0.06350615\n",
       "      0.03692137  0.04498437  0.02751753  0.05046363  0.06261374\n",
       "     -0.01128532 -0.01364341 -0.00181009  0.06699464  0.05732436\n",
       "     -0.04472094  0.02415782 -0.07331076 -0.02164397  0.03417944\n",
       "     -0.07192177  0.04739077 -0.0126522  -0.0225866  -0.07991596\n",
       "     -0.06005863 -0.06056234]]\n",
       " \n",
       "   [[-0.01694439 -0.02887268  0.01916951 -0.0100655   0.00104152\n",
       "      0.07966812  0.07335635  0.05469745  0.08229545  0.04523857\n",
       "     -0.01214156  0.03032702  0.0662127   0.0067604   0.02484836\n",
       "     -0.05317001  0.05147216 -0.08334273 -0.07826278 -0.05643035\n",
       "      0.02146805 -0.07360525  0.05071723 -0.06401353 -0.06105642\n",
       "      0.05860437  0.0635962   0.01968185  0.06873085 -0.06102277\n",
       "      0.0507472   0.07428013]]\n",
       " \n",
       "   [[ 0.06018724  0.03705072  0.07597595 -0.07553148 -0.08224915\n",
       "     -0.03042996  0.01801284  0.02958918 -0.0506882  -0.04761825\n",
       "     -0.02167454  0.05990243  0.03502555  0.00393587  0.02960841\n",
       "     -0.07707153  0.03077413  0.02514496 -0.02081235 -0.03831265\n",
       "     -0.03859867 -0.01027193 -0.03100698  0.0646385  -0.01851664\n",
       "     -0.05822355  0.02856394  0.06306666 -0.01762976 -0.00477433\n",
       "      0.03193267  0.04221888]]]\n",
       " \n",
       " \n",
       "  [[[-0.02351798 -0.00862674  0.06102614  0.00719704 -0.02941485\n",
       "      0.00270761 -0.01397883  0.07359216 -0.06256844  0.06604663\n",
       "     -0.08499029 -0.06690908  0.03848027 -0.01130329 -0.02294743\n",
       "     -0.06860391  0.0075798   0.01451845  0.03339754  0.05552025\n",
       "      0.06060775 -0.00622495 -0.02665952  0.04920521 -0.01728608\n",
       "     -0.06394184  0.01822294 -0.01986456  0.05444379 -0.07908923\n",
       "     -0.02408979  0.05082205]]\n",
       " \n",
       "   [[ 0.04747869  0.04276513  0.07116549  0.01889385  0.03329354\n",
       "     -0.02113505 -0.05562368 -0.05977363  0.03065138  0.06638362\n",
       "     -0.06505615  0.0442428   0.00329161 -0.0162238  -0.01471704\n",
       "      0.02278854  0.05847423 -0.00747633  0.08203802 -0.05518225\n",
       "     -0.03144106 -0.05213893  0.00442313  0.05589797  0.06589741\n",
       "     -0.0493781   0.07287782  0.01023129 -0.02286474  0.08370885\n",
       "      0.06711528 -0.04770293]]\n",
       " \n",
       "   [[-0.00190303  0.03431652 -0.04108107 -0.07841411 -0.06632984\n",
       "     -0.03588789  0.04850782 -0.03345415  0.04122414 -0.03341549\n",
       "      0.04392464  0.04362102  0.0161296   0.0650429  -0.03222688\n",
       "     -0.05019221  0.03567562 -0.00741175 -0.05065857 -0.0237479\n",
       "      0.08219622 -0.08009394  0.07272024 -0.02942089 -0.06617563\n",
       "     -0.0461067   0.08467841 -0.05676766 -0.00813866 -0.07752282\n",
       "      0.00360806  0.02372836]]\n",
       " \n",
       "   [[-0.03871274  0.02159413 -0.06294532  0.04605184  0.05870016\n",
       "      0.04466885  0.03167854 -0.00226243 -0.02881171 -0.05207104\n",
       "     -0.04330096  0.02281497  0.07698052 -0.04600076  0.01272837\n",
       "      0.04533559 -0.04663888 -0.03487495 -0.03132526 -0.04109872\n",
       "      0.06872509  0.03679936 -0.00693583 -0.06101586  0.07242019\n",
       "      0.06079635 -0.01012877  0.06580766  0.00983505 -0.07578924\n",
       "     -0.03039406  0.0796136 ]]\n",
       " \n",
       "   [[ 0.05472092  0.00704446 -0.08030899  0.07587197 -0.06152392\n",
       "     -0.07302263 -0.0417273   0.01986915 -0.0754603   0.00268924\n",
       "      0.01816522 -0.00209387  0.04923965  0.01696621 -0.03231547\n",
       "      0.02477471  0.08173653  0.05123463 -0.04325987  0.06520793\n",
       "     -0.05460188  0.03544459 -0.03070801 -0.0773465  -0.06740876\n",
       "      0.06078245 -0.07602254 -0.06123599  0.06225924  0.03040805\n",
       "      0.00940856  0.07254675]]]\n",
       " \n",
       " \n",
       "  [[[ 0.05675793  0.03154632 -0.05652386  0.01032427 -0.03945513\n",
       "      0.06179293  0.08074075  0.05720112  0.0550584   0.06862552\n",
       "      0.0152832   0.04779512 -0.02718524 -0.04042879 -0.05321881\n",
       "     -0.01789673  0.08261704  0.04368982  0.04004246 -0.01460712\n",
       "     -0.07994988  0.00116145 -0.02625206 -0.00549565 -0.06919662\n",
       "     -0.06095203 -0.06146014 -0.0782884  -0.0518912   0.02372592\n",
       "     -0.00998205  0.0257785 ]]\n",
       " \n",
       "   [[-0.06532495  0.03601007  0.0740172   0.04455252 -0.03808733\n",
       "      0.00086504  0.07392991  0.06595279 -0.08281362  0.01267168\n",
       "      0.03426635  0.05375777 -0.02447188  0.04413004 -0.05150192\n",
       "      0.04584648  0.03263459 -0.06372666 -0.05711976 -0.0483971\n",
       "      0.0825157  -0.07711827 -0.07773096 -0.06835511  0.04237629\n",
       "      0.01290304 -0.00515241 -0.03754992  0.05789956  0.04381979\n",
       "      0.08455887 -0.03746166]]\n",
       " \n",
       "   [[-0.05203036  0.07213295 -0.06083823 -0.00149602  0.07929498\n",
       "      0.04590303  0.07587801 -0.07311998  0.035592   -0.04729846\n",
       "     -0.00598975 -0.04351871  0.04892559 -0.02807195 -0.04542062\n",
       "     -0.08368999  0.01275273 -0.06030026  0.0348561   0.04001702\n",
       "      0.05434662  0.04831596  0.01259759 -0.06802637  0.03909464\n",
       "      0.03056963  0.01586298  0.07764325  0.05126756 -0.03810671\n",
       "     -0.08375922  0.04423131]]\n",
       " \n",
       "   [[-0.06312697 -0.05491565 -0.01954971  0.0080364   0.01652961\n",
       "      0.00290991 -0.06220923 -0.06113675 -0.03366912 -0.0636634\n",
       "     -0.06490742 -0.03153712  0.05925584  0.05931801 -0.03452328\n",
       "     -0.00066251  0.08085635  0.02074094  0.0398313  -0.03499123\n",
       "     -0.02530297 -0.06309903 -0.01929931  0.00023462 -0.0759742\n",
       "      0.04314981  0.05306184 -0.02122425 -0.02129193 -0.03914077\n",
       "     -0.04022685  0.00609799]]\n",
       " \n",
       "   [[-0.07363854  0.03465555  0.02124848 -0.04792576  0.02821739\n",
       "     -0.06639478 -0.03098573 -0.02960199 -0.04441866 -0.02360338\n",
       "      0.02856166  0.00417791 -0.03656842 -0.04642768  0.06841838\n",
       "     -0.00778123 -0.03198373 -0.02942514 -0.06027747  0.0673092\n",
       "     -0.0641453  -0.03739332 -0.07599202  0.06652547 -0.0122556\n",
       "     -0.07491139  0.08245127  0.08233961 -0.01994198 -0.0356363\n",
       "     -0.05236308 -0.06223607]]]\n",
       " \n",
       " \n",
       "  [[[-0.05022096  0.08422039 -0.02490333 -0.03648957 -0.0604752\n",
       "      0.04100078  0.05884854  0.00650492  0.02974419 -0.02726415\n",
       "      0.01943768  0.03124995  0.04703839  0.08250345 -0.01930332\n",
       "      0.04985969  0.06971268 -0.07667342  0.0045568   0.04630078\n",
       "      0.00993415 -0.01100386 -0.05397584 -0.04384112 -0.01004626\n",
       "      0.05131122 -0.07272173  0.00960405  0.05946223  0.0455156\n",
       "     -0.03388816 -0.06994219]]\n",
       " \n",
       "   [[-0.01810087 -0.035025   -0.00967912 -0.02953711  0.03269432\n",
       "      0.04644839 -0.08143691 -0.01407612 -0.08074762  0.07290082\n",
       "     -0.04804378 -0.00893475  0.0634408   0.01132479  0.02173939\n",
       "     -0.08413029  0.0835267  -0.01998108  0.05993797  0.04123367\n",
       "     -0.03384518  0.03364503  0.06195755  0.02184393  0.04557735\n",
       "     -0.02034231 -0.05329294 -0.04314924 -0.02412236  0.00110212\n",
       "      0.02653489  0.04675905]]\n",
       " \n",
       "   [[-0.07365064  0.05448067 -0.08450282 -0.05572776 -0.07092512\n",
       "      0.07546042  0.00770474 -0.07678352 -0.08131963  0.06535864\n",
       "      0.04677023  0.08493198  0.02622079 -0.08490812 -0.07187019\n",
       "     -0.06733362  0.0060937   0.04479481 -0.08161291 -0.05548408\n",
       "      0.05714944 -0.01521801  0.06564291 -0.06313842 -0.0429166\n",
       "      0.01549291  0.01515069  0.05655405  0.01464617  0.08004278\n",
       "     -0.06870254  0.02151197]]\n",
       " \n",
       "   [[-0.06882486  0.03525019  0.03056162 -0.06891648  0.05277126\n",
       "     -0.00707199  0.08477275 -0.03353932  0.04897097  0.04574606\n",
       "     -0.07332355  0.04725625 -0.04256316  0.04756646  0.02280647\n",
       "     -0.0697069  -0.04747159  0.01838718 -0.00107025  0.06921604\n",
       "      0.06322145  0.03447451  0.02765097  0.04657847 -0.08093407\n",
       "     -0.08505537  0.01669947 -0.04586409  0.04553857  0.03482201\n",
       "     -0.04911618  0.04084136]]\n",
       " \n",
       "   [[-0.02508624  0.03533349 -0.07987317  0.00437921  0.00831797\n",
       "     -0.01478011  0.04209018 -0.08026227 -0.04452353 -0.01042756\n",
       "     -0.05510053 -0.07343975  0.00406244  0.05765684  0.06476054\n",
       "      0.00986411 -0.05215865 -0.01910205  0.00011943  0.05558975\n",
       "     -0.05605717 -0.04147611  0.02273162 -0.03495041  0.035332\n",
       "      0.00647119 -0.00809836 -0.06475584  0.08350737  0.0799976\n",
       "     -0.00322279 -0.05352733]]]\n",
       " \n",
       " \n",
       "  [[[ 0.05570564 -0.06301774 -0.0554264  -0.05972156  0.00231265\n",
       "     -0.02908178  0.06940295  0.02089417 -0.00017313 -0.0470992\n",
       "     -0.05581487 -0.01486763 -0.07194719 -0.08036382 -0.00539437\n",
       "      0.07120465  0.06091115 -0.00725045  0.05694775  0.00274365\n",
       "     -0.03341448  0.02367627  0.03224359  0.08440691  0.00619902\n",
       "     -0.05990066  0.05081405 -0.06606315 -0.00839273  0.00528053\n",
       "     -0.03018744  0.0472627 ]]\n",
       " \n",
       "   [[-0.03772984 -0.0211322   0.04684746  0.03150994  0.04580328\n",
       "      0.00383613  0.07636428 -0.0591699  -0.07804242  0.00436398\n",
       "      0.01800687 -0.04777916  0.05479933 -0.02630015  0.05854975\n",
       "      0.07105641  0.07822412 -0.00912697  0.0012224   0.07843602\n",
       "     -0.00646534  0.00288446 -0.04696527 -0.02392469 -0.03449098\n",
       "      0.00515977 -0.04944985 -0.08092724 -0.06797865 -0.02434124\n",
       "      0.0178455  -0.03462879]]\n",
       " \n",
       "   [[ 0.0450183   0.06251678  0.06814696  0.04417808  0.04671536\n",
       "      0.03106881 -0.05457284  0.04726928 -0.00626259  0.07691696\n",
       "      0.06504856 -0.0478346  -0.07542616 -0.06530432 -0.07276841\n",
       "     -0.06227079 -0.03083919  0.00890927  0.06062537  0.0253834\n",
       "      0.01462974  0.03273592 -0.0741167  -0.05644314  0.0720468\n",
       "     -0.0332289   0.05138433 -0.00204855 -0.06977217 -0.07949712\n",
       "      0.02457468 -0.03032019]]\n",
       " \n",
       "   [[ 0.05245252 -0.01020701 -0.02020935  0.02849881 -0.04413431\n",
       "     -0.06630029 -0.05317481 -0.03273787 -0.0787793   0.00042127\n",
       "      0.04738703  0.0740703   0.02991062  0.01593634  0.05761689\n",
       "     -0.04118707  0.01040552  0.02989347 -0.04322547  0.07437111\n",
       "     -0.03729725 -0.02469983  0.01720501  0.08189692 -0.03851183\n",
       "     -0.04257937  0.07759281 -0.08510537 -0.00912931 -0.07755228\n",
       "      0.05509441 -0.00776401]]\n",
       " \n",
       "   [[-0.08237238 -0.01156696 -0.04739752  0.05920239  0.01152941\n",
       "      0.07863285  0.00926015 -0.0168984   0.02313449  0.06574467\n",
       "     -0.06533895 -0.07018349  0.08466883 -0.08368929  0.05047323\n",
       "     -0.00097128  0.0206784  -0.04869536  0.05425462 -0.08140477\n",
       "     -0.04134928 -0.0260331   0.06455305 -0.04549894  0.06068964\n",
       "      0.06736213 -0.01780564 -0.04866805  0.06188029  0.01149277\n",
       "     -0.05536457 -0.05154161]]]]>,\n",
       " <Variable path=sequential_2/conv2d_2/bias, shape=(32,), dtype=float32, value=[0. 0. 0. 0. 0. 0. 0. 0. 0. 0. 0. 0. 0. 0. 0. 0. 0. 0. 0. 0. 0. 0. 0. 0.\n",
       "  0. 0. 0. 0. 0. 0. 0. 0.]>]"
      ]
     },
     "execution_count": 48,
     "metadata": {},
     "output_type": "execute_result"
    }
   ],
   "source": [
    "# 모델 첫 번째 레이어 Conv2D의 커널 가중치 계산\n",
    "# 1) shape = (5, 5, 1, 32) 의미: 5 x 5 커널에 대해 input 채널 1개, output 채널 32개(Feature Map) -> 5 x 5 x 1 x 32 크기의 파라미터\n",
    "# 2) shape = (32, ) 의미: 32개 출력 bias 파라미터\n",
    "# 첫 번째 Conv2D 레이어는 800 + 32 = 832 파라미터 생성\n",
    "model.layers[0].weights"
   ]
  },
  {
   "cell_type": "code",
   "execution_count": 50,
   "id": "6863fd67-f190-4377-b7c2-1423a8abe2e6",
   "metadata": {},
   "outputs": [
    {
     "data": {
      "text/html": [
       "<pre style=\"white-space:pre;overflow-x:auto;line-height:normal;font-family:Menlo,'DejaVu Sans Mono',consolas,'Courier New',monospace\"><span style=\"font-weight: bold\">Model: \"sequential_2\"</span>\n",
       "</pre>\n"
      ],
      "text/plain": [
       "\u001b[1mModel: \"sequential_2\"\u001b[0m\n"
      ]
     },
     "metadata": {},
     "output_type": "display_data"
    },
    {
     "data": {
      "text/html": [
       "<pre style=\"white-space:pre;overflow-x:auto;line-height:normal;font-family:Menlo,'DejaVu Sans Mono',consolas,'Courier New',monospace\">┏━━━━━━━━━━━━━━━━━━━━━━━━━━━━━━━━━┳━━━━━━━━━━━━━━━━━━━━━━━━┳━━━━━━━━━━━━━━━┓\n",
       "┃<span style=\"font-weight: bold\"> Layer (type)                    </span>┃<span style=\"font-weight: bold\"> Output Shape           </span>┃<span style=\"font-weight: bold\">       Param # </span>┃\n",
       "┡━━━━━━━━━━━━━━━━━━━━━━━━━━━━━━━━━╇━━━━━━━━━━━━━━━━━━━━━━━━╇━━━━━━━━━━━━━━━┩\n",
       "│ conv2d_2 (<span style=\"color: #0087ff; text-decoration-color: #0087ff\">Conv2D</span>)               │ (<span style=\"color: #00d7ff; text-decoration-color: #00d7ff\">None</span>, <span style=\"color: #00af00; text-decoration-color: #00af00\">28</span>, <span style=\"color: #00af00; text-decoration-color: #00af00\">28</span>, <span style=\"color: #00af00; text-decoration-color: #00af00\">32</span>)     │           <span style=\"color: #00af00; text-decoration-color: #00af00\">832</span> │\n",
       "├─────────────────────────────────┼────────────────────────┼───────────────┤\n",
       "│ max_pooling2d (<span style=\"color: #0087ff; text-decoration-color: #0087ff\">MaxPooling2D</span>)    │ (<span style=\"color: #00d7ff; text-decoration-color: #00d7ff\">None</span>, <span style=\"color: #00af00; text-decoration-color: #00af00\">14</span>, <span style=\"color: #00af00; text-decoration-color: #00af00\">14</span>, <span style=\"color: #00af00; text-decoration-color: #00af00\">32</span>)     │             <span style=\"color: #00af00; text-decoration-color: #00af00\">0</span> │\n",
       "├─────────────────────────────────┼────────────────────────┼───────────────┤\n",
       "│ conv2d_3 (<span style=\"color: #0087ff; text-decoration-color: #0087ff\">Conv2D</span>)               │ (<span style=\"color: #00d7ff; text-decoration-color: #00d7ff\">None</span>, <span style=\"color: #00af00; text-decoration-color: #00af00\">14</span>, <span style=\"color: #00af00; text-decoration-color: #00af00\">14</span>, <span style=\"color: #00af00; text-decoration-color: #00af00\">64</span>)     │         <span style=\"color: #00af00; text-decoration-color: #00af00\">8,256</span> │\n",
       "├─────────────────────────────────┼────────────────────────┼───────────────┤\n",
       "│ max_pooling2d_1 (<span style=\"color: #0087ff; text-decoration-color: #0087ff\">MaxPooling2D</span>)  │ (<span style=\"color: #00d7ff; text-decoration-color: #00d7ff\">None</span>, <span style=\"color: #00af00; text-decoration-color: #00af00\">7</span>, <span style=\"color: #00af00; text-decoration-color: #00af00\">7</span>, <span style=\"color: #00af00; text-decoration-color: #00af00\">64</span>)       │             <span style=\"color: #00af00; text-decoration-color: #00af00\">0</span> │\n",
       "├─────────────────────────────────┼────────────────────────┼───────────────┤\n",
       "│ dropout (<span style=\"color: #0087ff; text-decoration-color: #0087ff\">Dropout</span>)               │ (<span style=\"color: #00d7ff; text-decoration-color: #00d7ff\">None</span>, <span style=\"color: #00af00; text-decoration-color: #00af00\">7</span>, <span style=\"color: #00af00; text-decoration-color: #00af00\">7</span>, <span style=\"color: #00af00; text-decoration-color: #00af00\">64</span>)       │             <span style=\"color: #00af00; text-decoration-color: #00af00\">0</span> │\n",
       "├─────────────────────────────────┼────────────────────────┼───────────────┤\n",
       "│ flatten (<span style=\"color: #0087ff; text-decoration-color: #0087ff\">Flatten</span>)               │ (<span style=\"color: #00d7ff; text-decoration-color: #00d7ff\">None</span>, <span style=\"color: #00af00; text-decoration-color: #00af00\">3136</span>)           │             <span style=\"color: #00af00; text-decoration-color: #00af00\">0</span> │\n",
       "├─────────────────────────────────┼────────────────────────┼───────────────┤\n",
       "│ dense (<span style=\"color: #0087ff; text-decoration-color: #0087ff\">Dense</span>)                   │ (<span style=\"color: #00d7ff; text-decoration-color: #00d7ff\">None</span>, <span style=\"color: #00af00; text-decoration-color: #00af00\">128</span>)            │       <span style=\"color: #00af00; text-decoration-color: #00af00\">401,536</span> │\n",
       "├─────────────────────────────────┼────────────────────────┼───────────────┤\n",
       "│ dropout_1 (<span style=\"color: #0087ff; text-decoration-color: #0087ff\">Dropout</span>)             │ (<span style=\"color: #00d7ff; text-decoration-color: #00d7ff\">None</span>, <span style=\"color: #00af00; text-decoration-color: #00af00\">128</span>)            │             <span style=\"color: #00af00; text-decoration-color: #00af00\">0</span> │\n",
       "├─────────────────────────────────┼────────────────────────┼───────────────┤\n",
       "│ dense_1 (<span style=\"color: #0087ff; text-decoration-color: #0087ff\">Dense</span>)                 │ (<span style=\"color: #00d7ff; text-decoration-color: #00d7ff\">None</span>, <span style=\"color: #00af00; text-decoration-color: #00af00\">10</span>)             │         <span style=\"color: #00af00; text-decoration-color: #00af00\">1,290</span> │\n",
       "└─────────────────────────────────┴────────────────────────┴───────────────┘\n",
       "</pre>\n"
      ],
      "text/plain": [
       "┏━━━━━━━━━━━━━━━━━━━━━━━━━━━━━━━━━┳━━━━━━━━━━━━━━━━━━━━━━━━┳━━━━━━━━━━━━━━━┓\n",
       "┃\u001b[1m \u001b[0m\u001b[1mLayer (type)                   \u001b[0m\u001b[1m \u001b[0m┃\u001b[1m \u001b[0m\u001b[1mOutput Shape          \u001b[0m\u001b[1m \u001b[0m┃\u001b[1m \u001b[0m\u001b[1m      Param #\u001b[0m\u001b[1m \u001b[0m┃\n",
       "┡━━━━━━━━━━━━━━━━━━━━━━━━━━━━━━━━━╇━━━━━━━━━━━━━━━━━━━━━━━━╇━━━━━━━━━━━━━━━┩\n",
       "│ conv2d_2 (\u001b[38;5;33mConv2D\u001b[0m)               │ (\u001b[38;5;45mNone\u001b[0m, \u001b[38;5;34m28\u001b[0m, \u001b[38;5;34m28\u001b[0m, \u001b[38;5;34m32\u001b[0m)     │           \u001b[38;5;34m832\u001b[0m │\n",
       "├─────────────────────────────────┼────────────────────────┼───────────────┤\n",
       "│ max_pooling2d (\u001b[38;5;33mMaxPooling2D\u001b[0m)    │ (\u001b[38;5;45mNone\u001b[0m, \u001b[38;5;34m14\u001b[0m, \u001b[38;5;34m14\u001b[0m, \u001b[38;5;34m32\u001b[0m)     │             \u001b[38;5;34m0\u001b[0m │\n",
       "├─────────────────────────────────┼────────────────────────┼───────────────┤\n",
       "│ conv2d_3 (\u001b[38;5;33mConv2D\u001b[0m)               │ (\u001b[38;5;45mNone\u001b[0m, \u001b[38;5;34m14\u001b[0m, \u001b[38;5;34m14\u001b[0m, \u001b[38;5;34m64\u001b[0m)     │         \u001b[38;5;34m8,256\u001b[0m │\n",
       "├─────────────────────────────────┼────────────────────────┼───────────────┤\n",
       "│ max_pooling2d_1 (\u001b[38;5;33mMaxPooling2D\u001b[0m)  │ (\u001b[38;5;45mNone\u001b[0m, \u001b[38;5;34m7\u001b[0m, \u001b[38;5;34m7\u001b[0m, \u001b[38;5;34m64\u001b[0m)       │             \u001b[38;5;34m0\u001b[0m │\n",
       "├─────────────────────────────────┼────────────────────────┼───────────────┤\n",
       "│ dropout (\u001b[38;5;33mDropout\u001b[0m)               │ (\u001b[38;5;45mNone\u001b[0m, \u001b[38;5;34m7\u001b[0m, \u001b[38;5;34m7\u001b[0m, \u001b[38;5;34m64\u001b[0m)       │             \u001b[38;5;34m0\u001b[0m │\n",
       "├─────────────────────────────────┼────────────────────────┼───────────────┤\n",
       "│ flatten (\u001b[38;5;33mFlatten\u001b[0m)               │ (\u001b[38;5;45mNone\u001b[0m, \u001b[38;5;34m3136\u001b[0m)           │             \u001b[38;5;34m0\u001b[0m │\n",
       "├─────────────────────────────────┼────────────────────────┼───────────────┤\n",
       "│ dense (\u001b[38;5;33mDense\u001b[0m)                   │ (\u001b[38;5;45mNone\u001b[0m, \u001b[38;5;34m128\u001b[0m)            │       \u001b[38;5;34m401,536\u001b[0m │\n",
       "├─────────────────────────────────┼────────────────────────┼───────────────┤\n",
       "│ dropout_1 (\u001b[38;5;33mDropout\u001b[0m)             │ (\u001b[38;5;45mNone\u001b[0m, \u001b[38;5;34m128\u001b[0m)            │             \u001b[38;5;34m0\u001b[0m │\n",
       "├─────────────────────────────────┼────────────────────────┼───────────────┤\n",
       "│ dense_1 (\u001b[38;5;33mDense\u001b[0m)                 │ (\u001b[38;5;45mNone\u001b[0m, \u001b[38;5;34m10\u001b[0m)             │         \u001b[38;5;34m1,290\u001b[0m │\n",
       "└─────────────────────────────────┴────────────────────────┴───────────────┘\n"
      ]
     },
     "metadata": {},
     "output_type": "display_data"
    },
    {
     "data": {
      "text/html": [
       "<pre style=\"white-space:pre;overflow-x:auto;line-height:normal;font-family:Menlo,'DejaVu Sans Mono',consolas,'Courier New',monospace\"><span style=\"font-weight: bold\"> Total params: </span><span style=\"color: #00af00; text-decoration-color: #00af00\">411,914</span> (1.57 MB)\n",
       "</pre>\n"
      ],
      "text/plain": [
       "\u001b[1m Total params: \u001b[0m\u001b[38;5;34m411,914\u001b[0m (1.57 MB)\n"
      ]
     },
     "metadata": {},
     "output_type": "display_data"
    },
    {
     "data": {
      "text/html": [
       "<pre style=\"white-space:pre;overflow-x:auto;line-height:normal;font-family:Menlo,'DejaVu Sans Mono',consolas,'Courier New',monospace\"><span style=\"font-weight: bold\"> Trainable params: </span><span style=\"color: #00af00; text-decoration-color: #00af00\">411,914</span> (1.57 MB)\n",
       "</pre>\n"
      ],
      "text/plain": [
       "\u001b[1m Trainable params: \u001b[0m\u001b[38;5;34m411,914\u001b[0m (1.57 MB)\n"
      ]
     },
     "metadata": {},
     "output_type": "display_data"
    },
    {
     "data": {
      "text/html": [
       "<pre style=\"white-space:pre;overflow-x:auto;line-height:normal;font-family:Menlo,'DejaVu Sans Mono',consolas,'Courier New',monospace\"><span style=\"font-weight: bold\"> Non-trainable params: </span><span style=\"color: #00af00; text-decoration-color: #00af00\">0</span> (0.00 B)\n",
       "</pre>\n"
      ],
      "text/plain": [
       "\u001b[1m Non-trainable params: \u001b[0m\u001b[38;5;34m0\u001b[0m (0.00 B)\n"
      ]
     },
     "metadata": {},
     "output_type": "display_data"
    }
   ],
   "source": [
    "model.summary()"
   ]
  },
  {
   "cell_type": "code",
   "execution_count": 54,
   "id": "a78c31c1-1f46-46e5-877c-1d96ea7e9c58",
   "metadata": {},
   "outputs": [
    {
     "data": {
      "text/plain": [
       "<Conv2D name=conv2d_3, built=True>"
      ]
     },
     "execution_count": 54,
     "metadata": {},
     "output_type": "execute_result"
    }
   ],
   "source": [
    "# 'conv2d_3' 이름으로 레이어 접근하기\n",
    "model.get_layer('conv2d_3')"
   ]
  },
  {
   "cell_type": "code",
   "execution_count": 56,
   "id": "0abc6f11-b405-4d9d-890f-921926734f11",
   "metadata": {},
   "outputs": [
    {
     "data": {
      "text/plain": [
       "<KerasTensor shape=(None, 14, 14, 32), dtype=float32, sparse=False, ragged=False, name=keras_tensor_5>"
      ]
     },
     "execution_count": 56,
     "metadata": {},
     "output_type": "execute_result"
    }
   ],
   "source": [
    "# 'conv2d_3' 이름으로 레이어 접근하기\n",
    "model.get_layer('conv2d_3').input"
   ]
  },
  {
   "cell_type": "code",
   "execution_count": 58,
   "id": "6612dcaa-bc37-48ac-a148-dcdf55f17c04",
   "metadata": {},
   "outputs": [
    {
     "data": {
      "text/plain": [
       "<KerasTensor shape=(None, 14, 14, 64), dtype=float32, sparse=False, ragged=False, name=keras_tensor_6>"
      ]
     },
     "execution_count": 58,
     "metadata": {},
     "output_type": "execute_result"
    }
   ],
   "source": [
    "# 'conv2d_3' 이름으로 레이어 접근하기\n",
    "model.get_layer('conv2d_3').output"
   ]
  },
  {
   "cell_type": "code",
   "execution_count": 60,
   "id": "27907947-d08f-4ace-9447-9cf947c0b1d1",
   "metadata": {},
   "outputs": [],
   "source": [
    "# 모델 compile\n",
    "# to_categorical: Transforms an integer class vector into a one-hot encoded matrix\n",
    "from tensorflow.keras.utils import to_categorical\n",
    "y_train = to_categorical(y_train, num_classes = 10)\n",
    "y_test = to_categorical(y_test, num_classes = 10)"
   ]
  },
  {
   "cell_type": "code",
   "execution_count": 62,
   "id": "079198de-dd12-454d-bf03-1e135d2a40cc",
   "metadata": {},
   "outputs": [
    {
     "data": {
      "text/plain": [
       "((60000, 10), (10000, 10))"
      ]
     },
     "execution_count": 62,
     "metadata": {},
     "output_type": "execute_result"
    }
   ],
   "source": [
    "y_train.shape, y_test.shape"
   ]
  },
  {
   "cell_type": "code",
   "execution_count": 66,
   "id": "3372f318-e447-4a96-ac21-3c775e2234d6",
   "metadata": {},
   "outputs": [],
   "source": [
    "model.compile(optimizer='adam',\n",
    "             loss = 'categorical_crossentropy', # one hot encoding 미리 안해줬으면 sparse 추가\n",
    "             metrics = ['accuracy'])"
   ]
  },
  {
   "cell_type": "code",
   "execution_count": 68,
   "id": "b379f56f-363a-43a9-9c85-824239509ba2",
   "metadata": {},
   "outputs": [],
   "source": [
    "EPOCHS = 5\n",
    "BATCH_SIZE = 1024"
   ]
  },
  {
   "cell_type": "code",
   "execution_count": 70,
   "id": "66c5d50d-9e76-4ff9-8b19-6c6c61ff1803",
   "metadata": {},
   "outputs": [],
   "source": [
    "from tensorflow.keras.callbacks import EarlyStopping, ModelCheckpoint"
   ]
  },
  {
   "cell_type": "code",
   "execution_count": 72,
   "id": "7879d13c-aeed-467b-b3e6-fe779df24b0a",
   "metadata": {},
   "outputs": [],
   "source": [
    "es = EarlyStopping(monitor='val_loss', patience=4, mode='min', verbose=1)\n",
    "mc = ModelCheckpoint('best_model.h5', monitor='val_accuracy', mode='max', save_best_only=True, verbose= 1)"
   ]
  },
  {
   "cell_type": "code",
   "execution_count": 74,
   "id": "ab1c3532-e35d-458c-b21f-eb1f1f0de71d",
   "metadata": {
    "scrolled": true
   },
   "outputs": [
    {
     "name": "stdout",
     "output_type": "stream",
     "text": [
      "Epoch 1/5\n",
      "\u001b[1m59/59\u001b[0m \u001b[32m━━━━━━━━━━━━━━━━━━━━\u001b[0m\u001b[37m\u001b[0m \u001b[1m0s\u001b[0m 101ms/step - accuracy: 0.6183 - loss: 1.2596\n",
      "Epoch 1: val_accuracy improved from -inf to 0.94830, saving model to best_model.h5\n"
     ]
    },
    {
     "name": "stderr",
     "output_type": "stream",
     "text": [
      "WARNING:absl:You are saving your model as an HDF5 file via `model.save()` or `keras.saving.save_model(model)`. This file format is considered legacy. We recommend using instead the native Keras format, e.g. `model.save('my_model.keras')` or `keras.saving.save_model(model, 'my_model.keras')`. \n"
     ]
    },
    {
     "name": "stdout",
     "output_type": "stream",
     "text": [
      "\u001b[1m59/59\u001b[0m \u001b[32m━━━━━━━━━━━━━━━━━━━━\u001b[0m\u001b[37m\u001b[0m \u001b[1m7s\u001b[0m 107ms/step - accuracy: 0.6210 - loss: 1.2507 - val_accuracy: 0.9483 - val_loss: 0.1743\n",
      "Epoch 2/5\n",
      "\u001b[1m59/59\u001b[0m \u001b[32m━━━━━━━━━━━━━━━━━━━━\u001b[0m\u001b[37m\u001b[0m \u001b[1m0s\u001b[0m 98ms/step - accuracy: 0.9403 - loss: 0.1982 \n",
      "Epoch 2: val_accuracy improved from 0.94830 to 0.97490, saving model to best_model.h5\n"
     ]
    },
    {
     "name": "stderr",
     "output_type": "stream",
     "text": [
      "WARNING:absl:You are saving your model as an HDF5 file via `model.save()` or `keras.saving.save_model(model)`. This file format is considered legacy. We recommend using instead the native Keras format, e.g. `model.save('my_model.keras')` or `keras.saving.save_model(model, 'my_model.keras')`. \n"
     ]
    },
    {
     "name": "stdout",
     "output_type": "stream",
     "text": [
      "\u001b[1m59/59\u001b[0m \u001b[32m━━━━━━━━━━━━━━━━━━━━\u001b[0m\u001b[37m\u001b[0m \u001b[1m6s\u001b[0m 103ms/step - accuracy: 0.9404 - loss: 0.1977 - val_accuracy: 0.9749 - val_loss: 0.0829\n",
      "Epoch 3/5\n",
      "\u001b[1m59/59\u001b[0m \u001b[32m━━━━━━━━━━━━━━━━━━━━\u001b[0m\u001b[37m\u001b[0m \u001b[1m0s\u001b[0m 97ms/step - accuracy: 0.9673 - loss: 0.1130\n",
      "Epoch 3: val_accuracy improved from 0.97490 to 0.98070, saving model to best_model.h5\n"
     ]
    },
    {
     "name": "stderr",
     "output_type": "stream",
     "text": [
      "WARNING:absl:You are saving your model as an HDF5 file via `model.save()` or `keras.saving.save_model(model)`. This file format is considered legacy. We recommend using instead the native Keras format, e.g. `model.save('my_model.keras')` or `keras.saving.save_model(model, 'my_model.keras')`. \n"
     ]
    },
    {
     "name": "stdout",
     "output_type": "stream",
     "text": [
      "\u001b[1m59/59\u001b[0m \u001b[32m━━━━━━━━━━━━━━━━━━━━\u001b[0m\u001b[37m\u001b[0m \u001b[1m6s\u001b[0m 102ms/step - accuracy: 0.9674 - loss: 0.1128 - val_accuracy: 0.9807 - val_loss: 0.0598\n",
      "Epoch 4/5\n",
      "\u001b[1m59/59\u001b[0m \u001b[32m━━━━━━━━━━━━━━━━━━━━\u001b[0m\u001b[37m\u001b[0m \u001b[1m0s\u001b[0m 97ms/step - accuracy: 0.9752 - loss: 0.0834\n",
      "Epoch 4: val_accuracy improved from 0.98070 to 0.98430, saving model to best_model.h5\n"
     ]
    },
    {
     "name": "stderr",
     "output_type": "stream",
     "text": [
      "WARNING:absl:You are saving your model as an HDF5 file via `model.save()` or `keras.saving.save_model(model)`. This file format is considered legacy. We recommend using instead the native Keras format, e.g. `model.save('my_model.keras')` or `keras.saving.save_model(model, 'my_model.keras')`. \n"
     ]
    },
    {
     "name": "stdout",
     "output_type": "stream",
     "text": [
      "\u001b[1m59/59\u001b[0m \u001b[32m━━━━━━━━━━━━━━━━━━━━\u001b[0m\u001b[37m\u001b[0m \u001b[1m6s\u001b[0m 102ms/step - accuracy: 0.9752 - loss: 0.0834 - val_accuracy: 0.9843 - val_loss: 0.0474\n",
      "Epoch 5/5\n",
      "\u001b[1m59/59\u001b[0m \u001b[32m━━━━━━━━━━━━━━━━━━━━\u001b[0m\u001b[37m\u001b[0m \u001b[1m0s\u001b[0m 99ms/step - accuracy: 0.9791 - loss: 0.0674 \n",
      "Epoch 5: val_accuracy improved from 0.98430 to 0.98660, saving model to best_model.h5\n"
     ]
    },
    {
     "name": "stderr",
     "output_type": "stream",
     "text": [
      "WARNING:absl:You are saving your model as an HDF5 file via `model.save()` or `keras.saving.save_model(model)`. This file format is considered legacy. We recommend using instead the native Keras format, e.g. `model.save('my_model.keras')` or `keras.saving.save_model(model, 'my_model.keras')`. \n"
     ]
    },
    {
     "name": "stdout",
     "output_type": "stream",
     "text": [
      "\u001b[1m59/59\u001b[0m \u001b[32m━━━━━━━━━━━━━━━━━━━━\u001b[0m\u001b[37m\u001b[0m \u001b[1m6s\u001b[0m 104ms/step - accuracy: 0.9791 - loss: 0.0675 - val_accuracy: 0.9866 - val_loss: 0.0402\n"
     ]
    }
   ],
   "source": [
    "history = model.fit(x_train, y_train, epochs=EPOCHS, batch_size=BATCH_SIZE, callbacks=[es, mc], validation_data=(x_test, y_test))"
   ]
  },
  {
   "cell_type": "code",
   "execution_count": 76,
   "id": "628c6eab-8ea0-4481-a4fe-ccc5af55a738",
   "metadata": {},
   "outputs": [
    {
     "name": "stdout",
     "output_type": "stream",
     "text": [
      "\u001b[1m313/313\u001b[0m \u001b[32m━━━━━━━━━━━━━━━━━━━━\u001b[0m\u001b[37m\u001b[0m \u001b[1m0s\u001b[0m 2ms/step - accuracy: 0.9821 - loss: 0.0488 \n"
     ]
    },
    {
     "data": {
      "text/plain": [
       "[0.04019422456622124, 0.9865999817848206]"
      ]
     },
     "execution_count": 76,
     "metadata": {},
     "output_type": "execute_result"
    }
   ],
   "source": [
    "model.evaluate(x_test, y_test)"
   ]
  },
  {
   "cell_type": "code",
   "execution_count": null,
   "id": "8688cb96-e212-4753-8f46-e44092439e7c",
   "metadata": {},
   "outputs": [],
   "source": [
    "import matplotlib.pyplot as plt\n",
    "%matplotlib inline \n",
    "# It tells Jupyter Notebook to display Matplotlib plots directly below the code cell that produces them"
   ]
  },
  {
   "cell_type": "code",
   "execution_count": 78,
   "id": "4757dc5b-01fc-4b57-bf76-51bc97181bbf",
   "metadata": {},
   "outputs": [],
   "source": [
    "x_range = range(1, len(history.history['accuracy'])+1)\n",
    "# history.history['accuracy']: List of accuracy values recorded at the end of each training epoch\n",
    "# len(history.history['accuracy']): Gives the number of epochs that were run"
   ]
  },
  {
   "cell_type": "code",
   "execution_count": 80,
   "id": "6fc8191e-55df-45d1-9668-dea314d40d5e",
   "metadata": {},
   "outputs": [
    {
     "data": {
      "text/plain": [
       "<matplotlib.legend.Legend at 0x31a197b00>"
      ]
     },
     "execution_count": 80,
     "metadata": {},
     "output_type": "execute_result"
    },
    {
     "data": {
      "image/png": "[encoded data removed]",
      "text/plain": [
       "<Figure size 1000x600 with 2 Axes>"
      ]
     },
     "metadata": {},
     "output_type": "display_data"
    }
   ],
   "source": [
    "plt.figure(figsize = (10, 6))\n",
    "plt.subplot(221)\n",
    "plt.plot(x_range, history.history['accuracy'], color = 'red', label = \"Accuracy\")\n",
    "plt.plot(x_range, history.history['val_accuracy'], color = 'green', label = \"Validation Accuracy\")\n",
    "plt.xlabel(\"Epochs\")\n",
    "plt.ylabel('Accuracy')\n",
    "plt.legend()\n",
    "plt.subplot(222)\n",
    "plt.plot(x_range, history.history['loss'], color = 'red', label = \"Loss\")\n",
    "plt.plot(x_range, history.history['val_loss'], color = 'green', label = \"Validation Loss\")\n",
    "plt.xlabel(\"Epochs\")\n",
    "plt.ylabel('Loss')\n",
    "plt.legend()"
   ]
  },
  {
   "cell_type": "code",
   "execution_count": 82,
   "id": "5f96bc24-9340-4819-a823-f8b3ab001513",
   "metadata": {},
   "outputs": [
    {
     "data": {
      "text/plain": [
       "(28, 28, 1)"
      ]
     },
     "execution_count": 82,
     "metadata": {},
     "output_type": "execute_result"
    }
   ],
   "source": [
    "x_test[0].shape"
   ]
  },
  {
   "cell_type": "code",
   "execution_count": 86,
   "id": "e9634939-bee9-403c-986c-4f31619e9853",
   "metadata": {},
   "outputs": [
    {
     "name": "stdout",
     "output_type": "stream",
     "text": [
      "\u001b[1m1/1\u001b[0m \u001b[32m━━━━━━━━━━━━━━━━━━━━\u001b[0m\u001b[37m\u001b[0m \u001b[1m0s\u001b[0m 33ms/step\n",
      "Prediction Probability:  [[1.08446137e-07 1.97635742e-07 1.14662835e-05 1.51785407e-05\n",
      "  1.90123099e-08 1.45819694e-08 4.72081541e-10 9.99957919e-01\n",
      "  2.11859188e-07 1.49822181e-05]]\n",
      "The Answer is  [7]\n"
     ]
    },
    {
     "data": {
      "image/png": "[encoded data removed]",
      "text/plain": [
       "<Figure size 640x480 with 1 Axes>"
      ]
     },
     "metadata": {},
     "output_type": "display_data"
    }
   ],
   "source": [
    "n = 0\n",
    "plt.imshow(x_test[n].reshape(28, 28))\n",
    "plt.show\n",
    "\n",
    "pred = model.predict(x_test[n].reshape(1, 28, 28, 1))\n",
    "answer = np.argmax(pred, axis = -1)\n",
    "\n",
    "print('Prediction Probability: ', pred)\n",
    "print(\"The Answer is \", answer)"
   ]
  },
  {
   "cell_type": "code",
   "execution_count": null,
   "id": "3ce8707b-c24e-4aca-988f-f9a1256a9d2f",
   "metadata": {},
   "outputs": [],
   "source": []
  },
  {
   "cell_type": "code",
   "execution_count": null,
   "id": "c4c61a50-c8db-4cea-8e4d-0ca594db3ed1",
   "metadata": {},
   "outputs": [],
   "source": []
  },
  {
   "cell_type": "code",
   "execution_count": null,
   "id": "a9674023-dd05-43ae-85eb-6b2788b00370",
   "metadata": {},
   "outputs": [],
   "source": []
  },
  {
   "cell_type": "code",
   "execution_count": null,
   "id": "d2d991e6-e138-4927-9d72-e588730fc3d8",
   "metadata": {},
   "outputs": [],
   "source": []
  },
  {
   "cell_type": "code",
   "execution_count": null,
   "id": "87db78c0-be78-422d-adbd-a90e6f6635ba",
   "metadata": {},
   "outputs": [],
   "source": []
  }
 ],
 "metadata": {
  "kernelspec": {
   "display_name": "Python [conda env:base]",
   "language": "python",
   "name": "conda-base-py"
  },
  "language_info": {
   "codemirror_mode": {
    "name": "ipython",
    "version": 3
   },
   "file_extension": ".py",
   "mimetype": "text/x-python",
   "name": "python",
   "nbconvert_exporter": "python",
   "pygments_lexer": "ipython3",
   "version": "3.12.7"
  }
 },
 "nbformat": 4,
 "nbformat_minor": 5
}
