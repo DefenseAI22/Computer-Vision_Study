{
 "cells": [
  {
   "cell_type": "code",
   "execution_count": null,
   "id": "a76da76f-4a30-478c-afea-db49624b33dd",
   "metadata": {},
   "outputs": [],
   "source": [
    "# Functional API 이용하여 1개 입력, 2개 출력 모델(숫자(0 ~ 9), 홀수/짝수 예측)"
   ]
  },
  {
   "cell_type": "code",
   "execution_count": 29,
   "id": "44d80264-b336-4326-bcf0-010e3a4a16d7",
   "metadata": {},
   "outputs": [],
   "source": [
    "import tensorflow as tf\n",
    "import numpy as np\n",
    "import pandas as pd\n",
    "import matplotlib.pyplot as plt"
   ]
  },
  {
   "cell_type": "code",
   "execution_count": 31,
   "id": "f379e457-99dc-4951-991f-69271b68e0fc",
   "metadata": {},
   "outputs": [
    {
     "name": "stdout",
     "output_type": "stream",
     "text": [
      "(60000, 28, 28) (60000,)\n",
      "(10000, 28, 28) (10000,)\n"
     ]
    }
   ],
   "source": [
    "mnist = tf.keras.datasets.mnist\n",
    "(x_train, y_train), (x_test, y_test) = mnist.load_data()\n",
    "\n",
    "print(x_train.shape, y_train.shape)\n",
    "print(x_test.shape, y_test.shape)"
   ]
  },
  {
   "cell_type": "code",
   "execution_count": 32,
   "id": "ea6d503a-9561-408a-9551-82a60a129d59",
   "metadata": {},
   "outputs": [
    {
     "data": {
      "text/plain": [
       "(60000,)"
      ]
     },
     "execution_count": 32,
     "metadata": {},
     "output_type": "execute_result"
    }
   ],
   "source": [
    "# Train label의 숫자를 보고 짝수(0), 홀수(1)로 나누기\n",
    "y_train_odd = []\n",
    "for y in y_train:\n",
    "    if y % 2 == 0:\n",
    "        y_train_odd.append(0)\n",
    "    else:\n",
    "        y_train_odd.append(1)\n",
    "\n",
    "y_train_odd = np.array(y_train_odd)\n",
    "y_train_odd.shape"
   ]
  },
  {
   "cell_type": "code",
   "execution_count": 35,
   "id": "95e1ccdd-3ed7-4560-bbf2-eee3500b6364",
   "metadata": {},
   "outputs": [
    {
     "name": "stdout",
     "output_type": "stream",
     "text": [
      "[5 0 4 1 9 2 1 3 1 4]\n",
      "[1 0 0 1 1 0 1 1 1 0]\n"
     ]
    }
   ],
   "source": [
    "print(y_train[:10])\n",
    "print(y_train_odd[:10])"
   ]
  },
  {
   "cell_type": "code",
   "execution_count": 37,
   "id": "a0a5714b-10b6-4815-af9a-2df88e704a8e",
   "metadata": {},
   "outputs": [
    {
     "data": {
      "text/plain": [
       "(10000,)"
      ]
     },
     "execution_count": 37,
     "metadata": {},
     "output_type": "execute_result"
    }
   ],
   "source": [
    "# Test label의 숫자를 보고 짝수(0), 홀수(1)로 나누기\n",
    "y_test_odd = []\n",
    "for y in y_test:\n",
    "    if y % 2 == 0:\n",
    "        y_test_odd.append(0)\n",
    "    else:\n",
    "        y_test_odd.append(1)\n",
    "\n",
    "y_test_odd = np.array(y_test_odd)\n",
    "y_test_odd.shape"
   ]
  },
  {
   "cell_type": "code",
   "execution_count": 39,
   "id": "7b32a6cb-1aa4-45dc-97aa-2553a5e1cb71",
   "metadata": {},
   "outputs": [
    {
     "name": "stdout",
     "output_type": "stream",
     "text": [
      "(60000, 28, 28, 1) (10000, 28, 28, 1)\n"
     ]
    }
   ],
   "source": [
    "# 정규화(Normalization)\n",
    "# Normalized inputs ensure gradients are not too larger or too small, \n",
    "# leading to faster and more stable convergence\n",
    "# Many activation functions(like sigmoid and tanh) operate optimally when inputs lie within a small, consistent range\n",
    "x_train = x_train / 255.0\n",
    "x_test = x_test / 255.0\n",
    "\n",
    "# 채널 추가: reshape, tf.newaxis, expand_dims 이용 가능\n",
    "x_train = tf.expand_dims(x_train, -1)\n",
    "x_test = tf.expand_dims(x_test, -1)\n",
    "\n",
    "print(x_train.shape, x_test.shape)"
   ]
  },
  {
   "cell_type": "code",
   "execution_count": 41,
   "id": "d1fc8d99-07bb-4713-a56c-bf41d10a82bc",
   "metadata": {
    "scrolled": true
   },
   "outputs": [
    {
     "data": {
      "text/html": [
       "<pre style=\"white-space:pre;overflow-x:auto;line-height:normal;font-family:Menlo,'DejaVu Sans Mono',consolas,'Courier New',monospace\"><span style=\"font-weight: bold\">Model: \"functional_1\"</span>\n",
       "</pre>\n"
      ],
      "text/plain": [
       "\u001b[1mModel: \"functional_1\"\u001b[0m\n"
      ]
     },
     "metadata": {},
     "output_type": "display_data"
    },
    {
     "data": {
      "text/html": [
       "<pre style=\"white-space:pre;overflow-x:auto;line-height:normal;font-family:Menlo,'DejaVu Sans Mono',consolas,'Courier New',monospace\">┏━━━━━━━━━━━━━━━━━━━━━┳━━━━━━━━━━━━━━━━━━━┳━━━━━━━━━━━━┳━━━━━━━━━━━━━━━━━━━┓\n",
       "┃<span style=\"font-weight: bold\"> Layer (type)        </span>┃<span style=\"font-weight: bold\"> Output Shape      </span>┃<span style=\"font-weight: bold\">    Param # </span>┃<span style=\"font-weight: bold\"> Connected to      </span>┃\n",
       "┡━━━━━━━━━━━━━━━━━━━━━╇━━━━━━━━━━━━━━━━━━━╇━━━━━━━━━━━━╇━━━━━━━━━━━━━━━━━━━┩\n",
       "│ inputs (<span style=\"color: #0087ff; text-decoration-color: #0087ff\">InputLayer</span>) │ (<span style=\"color: #00d7ff; text-decoration-color: #00d7ff\">None</span>, <span style=\"color: #00af00; text-decoration-color: #00af00\">28</span>, <span style=\"color: #00af00; text-decoration-color: #00af00\">28</span>, <span style=\"color: #00af00; text-decoration-color: #00af00\">1</span>) │          <span style=\"color: #00af00; text-decoration-color: #00af00\">0</span> │ -                 │\n",
       "├─────────────────────┼───────────────────┼────────────┼───────────────────┤\n",
       "│ conv2d_layer        │ (<span style=\"color: #00d7ff; text-decoration-color: #00d7ff\">None</span>, <span style=\"color: #00af00; text-decoration-color: #00af00\">26</span>, <span style=\"color: #00af00; text-decoration-color: #00af00\">26</span>,    │        <span style=\"color: #00af00; text-decoration-color: #00af00\">320</span> │ inputs[<span style=\"color: #00af00; text-decoration-color: #00af00\">0</span>][<span style=\"color: #00af00; text-decoration-color: #00af00\">0</span>]      │\n",
       "│ (<span style=\"color: #0087ff; text-decoration-color: #0087ff\">Conv2D</span>)            │ <span style=\"color: #00af00; text-decoration-color: #00af00\">32</span>)               │            │                   │\n",
       "├─────────────────────┼───────────────────┼────────────┼───────────────────┤\n",
       "│ maxpool_layer       │ (<span style=\"color: #00d7ff; text-decoration-color: #00d7ff\">None</span>, <span style=\"color: #00af00; text-decoration-color: #00af00\">13</span>, <span style=\"color: #00af00; text-decoration-color: #00af00\">13</span>,    │          <span style=\"color: #00af00; text-decoration-color: #00af00\">0</span> │ conv2d_layer[<span style=\"color: #00af00; text-decoration-color: #00af00\">0</span>][<span style=\"color: #00af00; text-decoration-color: #00af00\">…</span> │\n",
       "│ (<span style=\"color: #0087ff; text-decoration-color: #0087ff\">MaxPooling2D</span>)      │ <span style=\"color: #00af00; text-decoration-color: #00af00\">32</span>)               │            │                   │\n",
       "├─────────────────────┼───────────────────┼────────────┼───────────────────┤\n",
       "│ flatten_layer       │ (<span style=\"color: #00d7ff; text-decoration-color: #00d7ff\">None</span>, <span style=\"color: #00af00; text-decoration-color: #00af00\">5408</span>)      │          <span style=\"color: #00af00; text-decoration-color: #00af00\">0</span> │ maxpool_layer[<span style=\"color: #00af00; text-decoration-color: #00af00\">0</span>]… │\n",
       "│ (<span style=\"color: #0087ff; text-decoration-color: #0087ff\">Flatten</span>)           │                   │            │                   │\n",
       "├─────────────────────┼───────────────────┼────────────┼───────────────────┤\n",
       "│ flatten_2 (<span style=\"color: #0087ff; text-decoration-color: #0087ff\">Flatten</span>) │ (<span style=\"color: #00d7ff; text-decoration-color: #00d7ff\">None</span>, <span style=\"color: #00af00; text-decoration-color: #00af00\">784</span>)       │          <span style=\"color: #00af00; text-decoration-color: #00af00\">0</span> │ inputs[<span style=\"color: #00af00; text-decoration-color: #00af00\">0</span>][<span style=\"color: #00af00; text-decoration-color: #00af00\">0</span>]      │\n",
       "├─────────────────────┼───────────────────┼────────────┼───────────────────┤\n",
       "│ concatenate_2       │ (<span style=\"color: #00d7ff; text-decoration-color: #00d7ff\">None</span>, <span style=\"color: #00af00; text-decoration-color: #00af00\">6192</span>)      │          <span style=\"color: #00af00; text-decoration-color: #00af00\">0</span> │ flatten_layer[<span style=\"color: #00af00; text-decoration-color: #00af00\">0</span>]… │\n",
       "│ (<span style=\"color: #0087ff; text-decoration-color: #0087ff\">Concatenate</span>)       │                   │            │ flatten_2[<span style=\"color: #00af00; text-decoration-color: #00af00\">0</span>][<span style=\"color: #00af00; text-decoration-color: #00af00\">0</span>]   │\n",
       "├─────────────────────┼───────────────────┼────────────┼───────────────────┤\n",
       "│ digit_dense (<span style=\"color: #0087ff; text-decoration-color: #0087ff\">Dense</span>) │ (<span style=\"color: #00d7ff; text-decoration-color: #00d7ff\">None</span>, <span style=\"color: #00af00; text-decoration-color: #00af00\">10</span>)        │     <span style=\"color: #00af00; text-decoration-color: #00af00\">61,930</span> │ concatenate_2[<span style=\"color: #00af00; text-decoration-color: #00af00\">0</span>]… │\n",
       "├─────────────────────┼───────────────────┼────────────┼───────────────────┤\n",
       "│ odd_dense (<span style=\"color: #0087ff; text-decoration-color: #0087ff\">Dense</span>)   │ (<span style=\"color: #00d7ff; text-decoration-color: #00d7ff\">None</span>, <span style=\"color: #00af00; text-decoration-color: #00af00\">1</span>)         │        <span style=\"color: #00af00; text-decoration-color: #00af00\">785</span> │ flatten_2[<span style=\"color: #00af00; text-decoration-color: #00af00\">0</span>][<span style=\"color: #00af00; text-decoration-color: #00af00\">0</span>]   │\n",
       "└─────────────────────┴───────────────────┴────────────┴───────────────────┘\n",
       "</pre>\n"
      ],
      "text/plain": [
       "┏━━━━━━━━━━━━━━━━━━━━━┳━━━━━━━━━━━━━━━━━━━┳━━━━━━━━━━━━┳━━━━━━━━━━━━━━━━━━━┓\n",
       "┃\u001b[1m \u001b[0m\u001b[1mLayer (type)       \u001b[0m\u001b[1m \u001b[0m┃\u001b[1m \u001b[0m\u001b[1mOutput Shape     \u001b[0m\u001b[1m \u001b[0m┃\u001b[1m \u001b[0m\u001b[1m   Param #\u001b[0m\u001b[1m \u001b[0m┃\u001b[1m \u001b[0m\u001b[1mConnected to     \u001b[0m\u001b[1m \u001b[0m┃\n",
       "┡━━━━━━━━━━━━━━━━━━━━━╇━━━━━━━━━━━━━━━━━━━╇━━━━━━━━━━━━╇━━━━━━━━━━━━━━━━━━━┩\n",
       "│ inputs (\u001b[38;5;33mInputLayer\u001b[0m) │ (\u001b[38;5;45mNone\u001b[0m, \u001b[38;5;34m28\u001b[0m, \u001b[38;5;34m28\u001b[0m, \u001b[38;5;34m1\u001b[0m) │          \u001b[38;5;34m0\u001b[0m │ -                 │\n",
       "├─────────────────────┼───────────────────┼────────────┼───────────────────┤\n",
       "│ conv2d_layer        │ (\u001b[38;5;45mNone\u001b[0m, \u001b[38;5;34m26\u001b[0m, \u001b[38;5;34m26\u001b[0m,    │        \u001b[38;5;34m320\u001b[0m │ inputs[\u001b[38;5;34m0\u001b[0m][\u001b[38;5;34m0\u001b[0m]      │\n",
       "│ (\u001b[38;5;33mConv2D\u001b[0m)            │ \u001b[38;5;34m32\u001b[0m)               │            │                   │\n",
       "├─────────────────────┼───────────────────┼────────────┼───────────────────┤\n",
       "│ maxpool_layer       │ (\u001b[38;5;45mNone\u001b[0m, \u001b[38;5;34m13\u001b[0m, \u001b[38;5;34m13\u001b[0m,    │          \u001b[38;5;34m0\u001b[0m │ conv2d_layer[\u001b[38;5;34m0\u001b[0m][\u001b[38;5;34m…\u001b[0m │\n",
       "│ (\u001b[38;5;33mMaxPooling2D\u001b[0m)      │ \u001b[38;5;34m32\u001b[0m)               │            │                   │\n",
       "├─────────────────────┼───────────────────┼────────────┼───────────────────┤\n",
       "│ flatten_layer       │ (\u001b[38;5;45mNone\u001b[0m, \u001b[38;5;34m5408\u001b[0m)      │          \u001b[38;5;34m0\u001b[0m │ maxpool_layer[\u001b[38;5;34m0\u001b[0m]… │\n",
       "│ (\u001b[38;5;33mFlatten\u001b[0m)           │                   │            │                   │\n",
       "├─────────────────────┼───────────────────┼────────────┼───────────────────┤\n",
       "│ flatten_2 (\u001b[38;5;33mFlatten\u001b[0m) │ (\u001b[38;5;45mNone\u001b[0m, \u001b[38;5;34m784\u001b[0m)       │          \u001b[38;5;34m0\u001b[0m │ inputs[\u001b[38;5;34m0\u001b[0m][\u001b[38;5;34m0\u001b[0m]      │\n",
       "├─────────────────────┼───────────────────┼────────────┼───────────────────┤\n",
       "│ concatenate_2       │ (\u001b[38;5;45mNone\u001b[0m, \u001b[38;5;34m6192\u001b[0m)      │          \u001b[38;5;34m0\u001b[0m │ flatten_layer[\u001b[38;5;34m0\u001b[0m]… │\n",
       "│ (\u001b[38;5;33mConcatenate\u001b[0m)       │                   │            │ flatten_2[\u001b[38;5;34m0\u001b[0m][\u001b[38;5;34m0\u001b[0m]   │\n",
       "├─────────────────────┼───────────────────┼────────────┼───────────────────┤\n",
       "│ digit_dense (\u001b[38;5;33mDense\u001b[0m) │ (\u001b[38;5;45mNone\u001b[0m, \u001b[38;5;34m10\u001b[0m)        │     \u001b[38;5;34m61,930\u001b[0m │ concatenate_2[\u001b[38;5;34m0\u001b[0m]… │\n",
       "├─────────────────────┼───────────────────┼────────────┼───────────────────┤\n",
       "│ odd_dense (\u001b[38;5;33mDense\u001b[0m)   │ (\u001b[38;5;45mNone\u001b[0m, \u001b[38;5;34m1\u001b[0m)         │        \u001b[38;5;34m785\u001b[0m │ flatten_2[\u001b[38;5;34m0\u001b[0m][\u001b[38;5;34m0\u001b[0m]   │\n",
       "└─────────────────────┴───────────────────┴────────────┴───────────────────┘\n"
      ]
     },
     "metadata": {},
     "output_type": "display_data"
    },
    {
     "data": {
      "text/html": [
       "<pre style=\"white-space:pre;overflow-x:auto;line-height:normal;font-family:Menlo,'DejaVu Sans Mono',consolas,'Courier New',monospace\"><span style=\"font-weight: bold\"> Total params: </span><span style=\"color: #00af00; text-decoration-color: #00af00\">63,035</span> (246.23 KB)\n",
       "</pre>\n"
      ],
      "text/plain": [
       "\u001b[1m Total params: \u001b[0m\u001b[38;5;34m63,035\u001b[0m (246.23 KB)\n"
      ]
     },
     "metadata": {},
     "output_type": "display_data"
    },
    {
     "data": {
      "text/html": [
       "<pre style=\"white-space:pre;overflow-x:auto;line-height:normal;font-family:Menlo,'DejaVu Sans Mono',consolas,'Courier New',monospace\"><span style=\"font-weight: bold\"> Trainable params: </span><span style=\"color: #00af00; text-decoration-color: #00af00\">63,035</span> (246.23 KB)\n",
       "</pre>\n"
      ],
      "text/plain": [
       "\u001b[1m Trainable params: \u001b[0m\u001b[38;5;34m63,035\u001b[0m (246.23 KB)\n"
      ]
     },
     "metadata": {},
     "output_type": "display_data"
    },
    {
     "data": {
      "text/html": [
       "<pre style=\"white-space:pre;overflow-x:auto;line-height:normal;font-family:Menlo,'DejaVu Sans Mono',consolas,'Courier New',monospace\"><span style=\"font-weight: bold\"> Non-trainable params: </span><span style=\"color: #00af00; text-decoration-color: #00af00\">0</span> (0.00 B)\n",
       "</pre>\n"
      ],
      "text/plain": [
       "\u001b[1m Non-trainable params: \u001b[0m\u001b[38;5;34m0\u001b[0m (0.00 B)\n"
      ]
     },
     "metadata": {},
     "output_type": "display_data"
    }
   ],
   "source": [
    "# Functional API를 사용하여 모델 생성\n",
    "# 입력 1개: 이미지 (28 x 28)\n",
    "# 출력 2개\n",
    "# 1) 홀짝 분류: 이미지 > Flatten\n",
    "# 2) 0 ~ 9 숫자 분류: 이미지 > CNN > Flatten > concat(홀짝 Flatten + CNN Flatten) > DNN\n",
    "\n",
    "# 입력\n",
    "inputs = tf.keras.layers.Input(shape = (28, 28, 1), name = 'inputs')\n",
    "\n",
    "# 컨볼루션\n",
    "conv = tf.keras.layers.Conv2D(32, (3, 3), activation='relu', name='conv2d_layer')(inputs)\n",
    "pool = tf.keras.layers.MaxPooling2D((2, 2), name = 'maxpool_layer')(conv)\n",
    "flat = tf.keras.layers.Flatten(name = 'flatten_layer')(pool)\n",
    "\n",
    "# concat\n",
    "flat_inputs = tf.keras.layers.Flatten()(inputs)\n",
    "concat = tf.keras.layers.Concatenate()([flat, flat_inputs])\n",
    "\n",
    "# 출력\n",
    "digit_outputs = tf.keras.layers.Dense(10, activation='softmax', name = 'digit_dense')(concat)\n",
    "odd_outputs = tf.keras.layers.Dense(1, activation = 'sigmoid', name = 'odd_dense')(flat_inputs)\n",
    "\n",
    "# 모델\n",
    "model = tf.keras.models.Model(inputs = inputs, outputs = [digit_outputs, odd_outputs])\n",
    "\n",
    "model.summary()"
   ]
  },
  {
   "cell_type": "code",
   "execution_count": 43,
   "id": "1d63b649-88ad-4af1-9f9f-45aaea9a527e",
   "metadata": {},
   "outputs": [
    {
     "name": "stdout",
     "output_type": "stream",
     "text": [
      "<KerasTensor shape=(None, 28, 28, 1), dtype=float32, sparse=False, ragged=False, name=inputs>\n",
      "[<KerasTensor shape=(None, 10), dtype=float32, sparse=False, ragged=False, name=keras_tensor_19>, <KerasTensor shape=(None, 1), dtype=float32, sparse=False, ragged=False, name=keras_tensor_20>]\n"
     ]
    }
   ],
   "source": [
    "print(model.input)\n",
    "print(model.output)"
   ]
  },
  {
   "cell_type": "code",
   "execution_count": 45,
   "id": "fd55da59-05c0-4c25-9861-0f20221343f4",
   "metadata": {},
   "outputs": [],
   "source": [
    "model.compile(optimizer = 'adam',\n",
    "             loss = {\"digit_dense\": \"sparse_categorical_crossentropy\", \"odd_dense\": 'binary_crossentropy'},\n",
    "             loss_weights={'digit_dense': 1, 'odd_dense': 0.5}, # Loss = 1.0 * \"sprase_categorical_crossentropy\" + 0.5 * binary_cross entropy\n",
    "             metrics = {'digit_dense': 'accuracy', 'odd_dense': 'accuracy'})"
   ]
  },
  {
   "cell_type": "code",
   "execution_count": 47,
   "id": "e1670678-1221-4ecc-a79c-6aa60860a707",
   "metadata": {
    "scrolled": true
   },
   "outputs": [
    {
     "name": "stdout",
     "output_type": "stream",
     "text": [
      "Epoch 1/10\n",
      "\u001b[1m1862/1875\u001b[0m \u001b[32m━━━━━━━━━━━━━━━━━━━\u001b[0m\u001b[37m━\u001b[0m \u001b[1m0s\u001b[0m 2ms/step - digit_dense_accuracy: 0.8895 - digit_dense_loss: 0.3871 - loss: 0.5733 - odd_dense_accuracy: 0.8445 - odd_dense_loss: 0.3724"
     ]
    },
    {
     "name": "stderr",
     "output_type": "stream",
     "text": [
      "/Users/shinjoohwan/miniconda3/lib/python3.12/site-packages/keras/src/models/functional.py:241: UserWarning: The structure of `inputs` doesn't match the expected structure.\n",
      "Expected: inputs\n",
      "Received: inputs=['Tensor(shape=(None, 28, 28, 1))']\n",
      "  warnings.warn(msg)\n"
     ]
    },
    {
     "name": "stdout",
     "output_type": "stream",
     "text": [
      "\u001b[1m1875/1875\u001b[0m \u001b[32m━━━━━━━━━━━━━━━━━━━━\u001b[0m\u001b[37m\u001b[0m \u001b[1m5s\u001b[0m 3ms/step - digit_dense_accuracy: 0.8899 - digit_dense_loss: 0.3858 - loss: 0.5718 - odd_dense_accuracy: 0.8447 - odd_dense_loss: 0.3720 - val_digit_dense_accuracy: 0.9748 - val_digit_dense_loss: 0.0904 - val_loss: 0.2272 - val_odd_dense_accuracy: 0.8898 - val_odd_dense_loss: 0.2732\n",
      "Epoch 2/10\n",
      "\u001b[1m1875/1875\u001b[0m \u001b[32m━━━━━━━━━━━━━━━━━━━━\u001b[0m\u001b[37m\u001b[0m \u001b[1m5s\u001b[0m 3ms/step - digit_dense_accuracy: 0.9756 - digit_dense_loss: 0.0843 - loss: 0.2210 - odd_dense_accuracy: 0.8911 - odd_dense_loss: 0.2735 - val_digit_dense_accuracy: 0.9784 - val_digit_dense_loss: 0.0684 - val_loss: 0.2003 - val_odd_dense_accuracy: 0.8962 - val_odd_dense_loss: 0.2635\n",
      "Epoch 3/10\n",
      "\u001b[1m1875/1875\u001b[0m \u001b[32m━━━━━━━━━━━━━━━━━━━━\u001b[0m\u001b[37m\u001b[0m \u001b[1m5s\u001b[0m 3ms/step - digit_dense_accuracy: 0.9817 - digit_dense_loss: 0.0624 - loss: 0.1925 - odd_dense_accuracy: 0.8977 - odd_dense_loss: 0.2602 - val_digit_dense_accuracy: 0.9791 - val_digit_dense_loss: 0.0625 - val_loss: 0.1921 - val_odd_dense_accuracy: 0.8981 - val_odd_dense_loss: 0.2588\n",
      "Epoch 4/10\n",
      "\u001b[1m1875/1875\u001b[0m \u001b[32m━━━━━━━━━━━━━━━━━━━━\u001b[0m\u001b[37m\u001b[0m \u001b[1m5s\u001b[0m 3ms/step - digit_dense_accuracy: 0.9859 - digit_dense_loss: 0.0476 - loss: 0.1789 - odd_dense_accuracy: 0.8971 - odd_dense_loss: 0.2626 - val_digit_dense_accuracy: 0.9796 - val_digit_dense_loss: 0.0624 - val_loss: 0.1913 - val_odd_dense_accuracy: 0.9007 - val_odd_dense_loss: 0.2574\n",
      "Epoch 5/10\n",
      "\u001b[1m1875/1875\u001b[0m \u001b[32m━━━━━━━━━━━━━━━━━━━━\u001b[0m\u001b[37m\u001b[0m \u001b[1m5s\u001b[0m 3ms/step - digit_dense_accuracy: 0.9871 - digit_dense_loss: 0.0423 - loss: 0.1716 - odd_dense_accuracy: 0.8983 - odd_dense_loss: 0.2587 - val_digit_dense_accuracy: 0.9805 - val_digit_dense_loss: 0.0596 - val_loss: 0.1881 - val_odd_dense_accuracy: 0.8986 - val_odd_dense_loss: 0.2568\n",
      "Epoch 6/10\n",
      "\u001b[1m1875/1875\u001b[0m \u001b[32m━━━━━━━━━━━━━━━━━━━━\u001b[0m\u001b[37m\u001b[0m \u001b[1m5s\u001b[0m 3ms/step - digit_dense_accuracy: 0.9901 - digit_dense_loss: 0.0324 - loss: 0.1589 - odd_dense_accuracy: 0.9002 - odd_dense_loss: 0.2530 - val_digit_dense_accuracy: 0.9838 - val_digit_dense_loss: 0.0506 - val_loss: 0.1786 - val_odd_dense_accuracy: 0.9001 - val_odd_dense_loss: 0.2558\n",
      "Epoch 7/10\n",
      "\u001b[1m1875/1875\u001b[0m \u001b[32m━━━━━━━━━━━━━━━━━━━━\u001b[0m\u001b[37m\u001b[0m \u001b[1m6s\u001b[0m 3ms/step - digit_dense_accuracy: 0.9912 - digit_dense_loss: 0.0274 - loss: 0.1536 - odd_dense_accuracy: 0.9017 - odd_dense_loss: 0.2524 - val_digit_dense_accuracy: 0.9827 - val_digit_dense_loss: 0.0536 - val_loss: 0.1815 - val_odd_dense_accuracy: 0.9034 - val_odd_dense_loss: 0.2554\n",
      "Epoch 8/10\n",
      "\u001b[1m1875/1875\u001b[0m \u001b[32m━━━━━━━━━━━━━━━━━━━━\u001b[0m\u001b[37m\u001b[0m \u001b[1m6s\u001b[0m 3ms/step - digit_dense_accuracy: 0.9935 - digit_dense_loss: 0.0222 - loss: 0.1490 - odd_dense_accuracy: 0.9000 - odd_dense_loss: 0.2537 - val_digit_dense_accuracy: 0.9819 - val_digit_dense_loss: 0.0591 - val_loss: 0.1869 - val_odd_dense_accuracy: 0.9003 - val_odd_dense_loss: 0.2554\n",
      "Epoch 9/10\n",
      "\u001b[1m1875/1875\u001b[0m \u001b[32m━━━━━━━━━━━━━━━━━━━━\u001b[0m\u001b[37m\u001b[0m \u001b[1m6s\u001b[0m 3ms/step - digit_dense_accuracy: 0.9943 - digit_dense_loss: 0.0199 - loss: 0.1445 - odd_dense_accuracy: 0.9027 - odd_dense_loss: 0.2492 - val_digit_dense_accuracy: 0.9842 - val_digit_dense_loss: 0.0555 - val_loss: 0.1833 - val_odd_dense_accuracy: 0.9031 - val_odd_dense_loss: 0.2554\n",
      "Epoch 10/10\n",
      "\u001b[1m1875/1875\u001b[0m \u001b[32m━━━━━━━━━━━━━━━━━━━━\u001b[0m\u001b[37m\u001b[0m \u001b[1m6s\u001b[0m 3ms/step - digit_dense_accuracy: 0.9959 - digit_dense_loss: 0.0143 - loss: 0.1402 - odd_dense_accuracy: 0.9029 - odd_dense_loss: 0.2518 - val_digit_dense_accuracy: 0.9839 - val_digit_dense_loss: 0.0611 - val_loss: 0.1902 - val_odd_dense_accuracy: 0.9016 - val_odd_dense_loss: 0.2578\n"
     ]
    }
   ],
   "source": [
    "# 입력, 출력: 딕셔너리 형태로 {레이어 이름: 데이터셋} 포맷으로 주어야 함\n",
    "history = model.fit(x = {'inputs': x_train}, y = {'digit_dense': y_train, 'odd_dense': y_train_odd},\n",
    "                   validation_data = ({'inputs': x_test}, {'digit_dense': y_test, 'odd_dense': y_test_odd}),\n",
    "                   epochs = 10)"
   ]
  },
  {
   "cell_type": "code",
   "execution_count": 51,
   "id": "6a5e49ce-93ee-46ef-8fcd-c2b653359d39",
   "metadata": {},
   "outputs": [
    {
     "name": "stdout",
     "output_type": "stream",
     "text": [
      "\u001b[1m313/313\u001b[0m \u001b[32m━━━━━━━━━━━━━━━━━━━━\u001b[0m\u001b[37m\u001b[0m \u001b[1m0s\u001b[0m 966us/step - digit_dense_accuracy: 0.9798 - digit_dense_loss: 0.0754 - loss: 0.2094 - odd_dense_accuracy: 0.8975 - odd_dense_loss: 0.2678\n"
     ]
    },
    {
     "data": {
      "text/plain": [
       "[0.1902114450931549,\n",
       " 0.0611436553299427,\n",
       " 0.2578381299972534,\n",
       " 0.9839000105857849,\n",
       " 0.9016000032424927]"
      ]
     },
     "execution_count": 51,
     "metadata": {},
     "output_type": "execute_result"
    }
   ],
   "source": [
    "model.evaluate({'inputs': x_test}, {'digit_dense': y_test, 'odd_dense': y_test_odd})"
   ]
  },
  {
   "cell_type": "code",
   "execution_count": 53,
   "id": "8a4d3bc3-21e7-45c1-ae6a-ef5d91ef64e0",
   "metadata": {},
   "outputs": [
    {
     "data": {
      "text/plain": [
       "dict_keys(['digit_dense_accuracy', 'digit_dense_loss', 'loss', 'odd_dense_accuracy', 'odd_dense_loss', 'val_digit_dense_accuracy', 'val_digit_dense_loss', 'val_loss', 'val_odd_dense_accuracy', 'val_odd_dense_loss'])"
      ]
     },
     "execution_count": 53,
     "metadata": {},
     "output_type": "execute_result"
    }
   ],
   "source": [
    "history.history.keys()"
   ]
  },
  {
   "cell_type": "code",
   "execution_count": 55,
   "id": "ee7e39b7-b7e9-4b21-b535-defa03ffa22a",
   "metadata": {},
   "outputs": [],
   "source": [
    "x_range = range(1, len(history.history['digit_dense_accuracy'])+1)"
   ]
  },
  {
   "cell_type": "code",
   "execution_count": 57,
   "id": "6a461b00-6533-4570-b45b-d6bdb0e9f58f",
   "metadata": {},
   "outputs": [
    {
     "data": {
      "image/png": "[encoded data removed]",
      "text/plain": [
       "<Figure size 1000x600 with 2 Axes>"
      ]
     },
     "metadata": {},
     "output_type": "display_data"
    }
   ],
   "source": [
    "plt.figure(figsize = (10, 6))\n",
    "plt.subplot(221)\n",
    "plt.plot(x_range, history.history['digit_dense_accuracy'], color = 'red', label = \"Accuracy\")\n",
    "plt.plot(x_range, history.history['val_digit_dense_accuracy'], color = 'green', label = \"Validation Accuracy\")\n",
    "plt.xlabel(\"Epochs\")\n",
    "plt.ylabel('Accuracy')\n",
    "plt.legend()\n",
    "plt.subplot(222)\n",
    "plt.plot(x_range, history.history['loss'], color = 'red', label = \"Loss\")\n",
    "plt.plot(x_range, history.history['val_loss'], color = 'green', label = \"Validation Loss\")\n",
    "plt.xlabel(\"Epochs\")\n",
    "plt.ylabel('Loss')\n",
    "plt.legend()\n",
    "\n",
    "plt.show()"
   ]
  },
  {
   "cell_type": "code",
   "execution_count": null,
   "id": "b0505894-01d3-4156-ba87-1baf83def9e0",
   "metadata": {},
   "outputs": [],
   "source": []
  },
  {
   "cell_type": "code",
   "execution_count": 63,
   "id": "7179ec34-3f4a-44d9-bec9-a810eafdec4b",
   "metadata": {},
   "outputs": [
    {
     "data": {
      "image/png": "[encoded data removed]",
      "text/plain": [
       "<Figure size 500x500 with 1 Axes>"
      ]
     },
     "metadata": {},
     "output_type": "display_data"
    }
   ],
   "source": [
    "import matplotlib.pylab as plt\n",
    "\n",
    "def plot_image(data, idx):\n",
    "    plt.figure(figsize=(5,5))\n",
    "    plt.imshow(np.squeeze(data[idx]))\n",
    "    plt.axis('off')\n",
    "    plt.show()\n",
    "\n",
    "plot_image(x_test, 0)"
   ]
  },
  {
   "cell_type": "code",
   "execution_count": 65,
   "id": "e06e30d4-353a-457a-9b2b-60d8ea186f60",
   "metadata": {},
   "outputs": [
    {
     "name": "stdout",
     "output_type": "stream",
     "text": [
      "\u001b[1m313/313\u001b[0m \u001b[32m━━━━━━━━━━━━━━━━━━━━\u001b[0m\u001b[37m\u001b[0m \u001b[1m0s\u001b[0m 853us/step\n",
      "[9.0468869e-11 7.7677625e-10 6.2200563e-08 3.1316117e-07 7.5803544e-11\n",
      " 4.8518958e-12 3.5232285e-19 9.9999940e-01 1.1219171e-08 9.4057093e-08]\n",
      "[0.99937516]\n"
     ]
    }
   ],
   "source": [
    "digit_preds, odd_preds = model.predict(x_test)\n",
    "print(digit_preds[0])\n",
    "print(odd_preds[0])"
   ]
  },
  {
   "cell_type": "code",
   "execution_count": 67,
   "id": "08d8692b-7f7e-44e5-b3e0-41097047807f",
   "metadata": {},
   "outputs": [
    {
     "data": {
      "text/plain": [
       "array([7, 2, 1, 0, 4, 1, 4, 9, 6, 9])"
      ]
     },
     "execution_count": 67,
     "metadata": {},
     "output_type": "execute_result"
    }
   ],
   "source": [
    "# 숫자 0~9예측\n",
    "digit_labels = np.argmax(digit_preds, axis=-1)\n",
    "digit_labels[0:10]"
   ]
  },
  {
   "cell_type": "code",
   "execution_count": 69,
   "id": "6974e472-c5c8-457c-b557-60fd3294ef23",
   "metadata": {},
   "outputs": [
    {
     "data": {
      "text/plain": [
       "array([1, 0, 1, 0, 0, 1, 0, 1, 0, 1])"
      ]
     },
     "execution_count": 69,
     "metadata": {},
     "output_type": "execute_result"
    }
   ],
   "source": [
    "# 홀수/짝수 예측: 짝수 0, 홀수 1\n",
    "odd_labels = np.where(odd_preds > 0.5, 1, 0).reshape(-1)\n",
    "odd_labels[0:10]"
   ]
  },
  {
   "cell_type": "code",
   "execution_count": null,
   "id": "99bab3ba-55f8-43d4-8240-8cd138519374",
   "metadata": {},
   "outputs": [],
   "source": []
  }
 ],
 "metadata": {
  "kernelspec": {
   "display_name": "Python [conda env:base]",
   "language": "python",
   "name": "conda-base-py"
  },
  "language_info": {
   "codemirror_mode": {
    "name": "ipython",
    "version": 3
   },
   "file_extension": ".py",
   "mimetype": "text/x-python",
   "name": "python",
   "nbconvert_exporter": "python",
   "pygments_lexer": "ipython3",
   "version": "3.12.7"
  }
 },
 "nbformat": 4,
 "nbformat_minor": 5
}
