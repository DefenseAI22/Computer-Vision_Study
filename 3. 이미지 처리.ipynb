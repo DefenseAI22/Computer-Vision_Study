{
 "cells": [
  {
   "cell_type": "markdown",
   "id": "ae5029b3-3a46-459a-8632-e9e88aceb881",
   "metadata": {},
   "source": [
    "### 이미지 데이터 읽기(PIL, Tensorflow, CV2)"
   ]
  },
  {
   "cell_type": "code",
   "execution_count": 5,
   "id": "adc4486c-15f7-49a3-9147-c0aa912f9d0e",
   "metadata": {},
   "outputs": [],
   "source": [
    "# PIL\n",
    "# From PIL import Image\n",
    "# image = Image.open('dog.jpg')\n",
    "# plt.imshow(image)\n",
    "\n",
    "# Tensorflow\n",
    "# import tensorflow as tf\n",
    "# image = tf.io.read_file('dog.jpg')\n",
    "# image = tf.image.decode_image(image)\n",
    "# plt.imshow(image)\n",
    "\n",
    "# CV2\n",
    "# import cv2\n",
    "# image = cv2.imread('dog.jpg')\n",
    "# image = cv2.cvtColor(image, cv2.COLOR_BGR2RGB)\n",
    "# plt.imshow(image)"
   ]
  },
  {
   "cell_type": "markdown",
   "id": "f7dc266b-9f2f-4057-a5da-04c8307230ed",
   "metadata": {},
   "source": [
    "### Dataset from_tensor_slices 이용하여 입력 파이프라인 구축"
   ]
  },
  {
   "cell_type": "code",
   "execution_count": 8,
   "id": "ca36e861-e3d0-44ff-847f-e6cdfa732343",
   "metadata": {},
   "outputs": [],
   "source": [
    "import tensorflow as tf\n",
    "import numpy as np\n",
    "import pandas as pd\n",
    "import matplotlib.pyplot as plt"
   ]
  },
  {
   "cell_type": "code",
   "execution_count": 12,
   "id": "bb310561-a5b7-4b99-bcc4-15d327d5d886",
   "metadata": {},
   "outputs": [],
   "source": [
    "mnist = tf.keras.datasets.mnist\n",
    "(x_train, y_train), (x_test, y_test) = mnist.load_data()\n",
    "x_train, x_test = x_train / 255.0, x_test / 255.0"
   ]
  },
  {
   "cell_type": "code",
   "execution_count": 16,
   "id": "c3876dae-06f4-4aa7-b701-90eadf42fcfb",
   "metadata": {},
   "outputs": [
    {
     "name": "stdout",
     "output_type": "stream",
     "text": [
      "The shape of train dataset :  (60000, 28, 28)\n",
      "The shape of test dataset:  (10000, 28, 28)\n"
     ]
    }
   ],
   "source": [
    "print(\"The shape of train dataset : \", x_train.shape)\n",
    "print(\"The shape of test dataset: \", x_test.shape)"
   ]
  },
  {
   "cell_type": "code",
   "execution_count": 18,
   "id": "9e10fd59-d187-4bd6-af14-cb04c3c82db0",
   "metadata": {},
   "outputs": [
    {
     "data": {
      "text/plain": [
       "<matplotlib.image.AxesImage at 0x304981910>"
      ]
     },
     "execution_count": 18,
     "metadata": {},
     "output_type": "execute_result"
    },
    {
     "data": {
      "image/png": "[encoded data removed]",
      "text/plain": [
       "<Figure size 640x480 with 1 Axes>"
      ]
     },
     "metadata": {},
     "output_type": "display_data"
    }
   ],
   "source": [
    "plt.imshow(x_train[0])"
   ]
  },
  {
   "cell_type": "code",
   "execution_count": 20,
   "id": "c2a06549-9907-4291-8624-c089303fb875",
   "metadata": {},
   "outputs": [
    {
     "data": {
      "text/plain": [
       "<matplotlib.image.AxesImage at 0x3062bfb60>"
      ]
     },
     "execution_count": 20,
     "metadata": {},
     "output_type": "execute_result"
    },
    {
     "data": {
      "image/png": "[encoded data removed]",
      "text/plain": [
       "<Figure size 640x480 with 1 Axes>"
      ]
     },
     "metadata": {},
     "output_type": "display_data"
    }
   ],
   "source": [
    "plt.imshow(x_train[1])"
   ]
  },
  {
   "cell_type": "code",
   "execution_count": 22,
   "id": "34a36ebf-1d6a-471f-9b58-b6d682837d1c",
   "metadata": {},
   "outputs": [],
   "source": [
    "# Add a channels dimension. 이미지 사이즈로 만들어 줌. 원래 이미지는 Heght x Width x Channel 3차원으로 구성\n",
    "# x_train.reshape(-1, 28, 28, 1) 사용해도 됨\n",
    "\n",
    "x_train = x_train[..., tf.newaxis]\n",
    "x_test = x_test[..., tf.newaxis]"
   ]
  },
  {
   "cell_type": "code",
   "execution_count": 24,
   "id": "4a24a036-c4a6-4201-a4e0-d5c23de0c741",
   "metadata": {},
   "outputs": [
    {
     "name": "stdout",
     "output_type": "stream",
     "text": [
      "The shape of train dataset:  (60000, 28, 28, 1)\n",
      "The shape of test dataset:  (10000, 28, 28, 1)\n"
     ]
    }
   ],
   "source": [
    "print(\"The shape of train dataset: \", x_train.shape)\n",
    "print(\"The shape of test dataset: \", x_test.shape)"
   ]
  },
  {
   "cell_type": "code",
   "execution_count": 26,
   "id": "0a2a4250-ff18-481b-8a31-9ab18426ba1c",
   "metadata": {},
   "outputs": [],
   "source": [
    "# 파이프라인\n",
    "# from_tensor_slices : 입력 받기\n",
    "# shuffle\n",
    "# batch\n",
    "# cache(데이터 일부를 캐시 메모리에 저장할 수 있도록 함)\n",
    "# prefetch(모델이 s번째 데이터를 읽는 동안, s+1번째 데이터를 준비)\n",
    "\n",
    "AUTOTUNE = tf.data.experimental.AUTOTUNE # 병렬 처리\n",
    "\n",
    "# train dataset\n",
    "train_ds = tf.data.Dataset.from_tensor_slices((x_train, y_train))\n",
    "train_ds = train_ds.shuffle(10000)\n",
    "train_ds = train_ds.batch(32)\n",
    "train_ds = train_ds.prefetch(AUTOTUNE)\n",
    "\n",
    "# test dataset\n",
    "test_ds = tf.data.Dataset.from_tensor_slices((x_test, y_test))\n",
    "test_ds = test_ds.batch(32)\n",
    "test_ds = test_ds.prefetch(AUTOTUNE)"
   ]
  },
  {
   "cell_type": "code",
   "execution_count": 28,
   "id": "f7d71c70-bf7b-4e9e-a6a8-b447e94dd046",
   "metadata": {},
   "outputs": [
    {
     "data": {
      "text/plain": [
       "<_PrefetchDataset element_spec=(TensorSpec(shape=(None, 28, 28, 1), dtype=tf.float64, name=None), TensorSpec(shape=(None,), dtype=tf.uint8, name=None))>"
      ]
     },
     "execution_count": 28,
     "metadata": {},
     "output_type": "execute_result"
    }
   ],
   "source": [
    "train_ds"
   ]
  },
  {
   "cell_type": "code",
   "execution_count": 30,
   "id": "04cffd5b-b0c7-41f1-b3ea-572b2c822b40",
   "metadata": {},
   "outputs": [],
   "source": [
    "x_train_sample, y_train_sample = next(iter(train_ds))"
   ]
  },
  {
   "cell_type": "code",
   "execution_count": 32,
   "id": "7382089d-a04b-494f-b3b8-9bb8e4ee47d8",
   "metadata": {},
   "outputs": [
    {
     "name": "stdout",
     "output_type": "stream",
     "text": [
      "(32, 28, 28, 1) (32,)\n"
     ]
    }
   ],
   "source": [
    "# 첫번째 샘플은 1개의 batch로 32개 이미지 구성\n",
    "# 두번째 샘플은 32개의 label로 구성\n",
    "\n",
    "print(x_train_sample.shape, y_train_sample.shape)"
   ]
  },
  {
   "cell_type": "code",
   "execution_count": 34,
   "id": "a57a1b5a-b8b2-4a69-9709-0f185396f5d3",
   "metadata": {},
   "outputs": [
    {
     "name": "stdout",
     "output_type": "stream",
     "text": [
      "<class 'tensorflow.python.framework.ops.EagerTensor'> <class 'tensorflow.python.framework.ops.EagerTensor'>\n"
     ]
    }
   ],
   "source": [
    "print(type(x_train_sample), type(y_train_sample))"
   ]
  },
  {
   "cell_type": "code",
   "execution_count": 36,
   "id": "2c8e0a3c-b950-4b06-a5da-71e245f952a5",
   "metadata": {
    "scrolled": true
   },
   "outputs": [
    {
     "data": {
      "text/plain": [
       "<matplotlib.image.AxesImage at 0x306306390>"
      ]
     },
     "execution_count": 36,
     "metadata": {},
     "output_type": "execute_result"
    },
    {
     "data": {
      "image/png": "[encoded data removed]",
      "text/plain": [
       "<Figure size 640x480 with 1 Axes>"
      ]
     },
     "metadata": {},
     "output_type": "display_data"
    }
   ],
   "source": [
    "plt.imshow(x_train_sample[0])"
   ]
  },
  {
   "cell_type": "code",
   "execution_count": 40,
   "id": "3ab955f3-964b-4283-af66-4ab035805cfa",
   "metadata": {},
   "outputs": [],
   "source": [
    "model = tf.keras.models.Sequential([\n",
    "    tf.keras.layers.Flatten(),\n",
    "    tf.keras.layers.Dense(64, activation = 'relu'),\n",
    "    tf.keras.layers.Dense(64, activation = 'relu'),\n",
    "    tf.keras.layers.Dense(10, activation = 'softmax')\n",
    "])"
   ]
  },
  {
   "cell_type": "code",
   "execution_count": 46,
   "id": "3cd48738-b5a6-4bb7-9fda-1eab45cf7873",
   "metadata": {},
   "outputs": [
    {
     "name": "stdout",
     "output_type": "stream",
     "text": [
      "Epoch 1/5\n",
      "\u001b[1m1875/1875\u001b[0m \u001b[32m━━━━━━━━━━━━━━━━━━━━\u001b[0m\u001b[37m\u001b[0m \u001b[1m1s\u001b[0m 465us/step - loss: 0.4780 - sparse_categorical_accuracy: 0.8633 - val_loss: 0.1419 - val_sparse_categorical_accuracy: 0.9564\n",
      "Epoch 2/5\n",
      "\u001b[1m1875/1875\u001b[0m \u001b[32m━━━━━━━━━━━━━━━━━━━━\u001b[0m\u001b[37m\u001b[0m \u001b[1m1s\u001b[0m 446us/step - loss: 0.1314 - sparse_categorical_accuracy: 0.9605 - val_loss: 0.1024 - val_sparse_categorical_accuracy: 0.9685\n",
      "Epoch 3/5\n",
      "\u001b[1m1875/1875\u001b[0m \u001b[32m━━━━━━━━━━━━━━━━━━━━\u001b[0m\u001b[37m\u001b[0m \u001b[1m1s\u001b[0m 427us/step - loss: 0.0886 - sparse_categorical_accuracy: 0.9728 - val_loss: 0.1041 - val_sparse_categorical_accuracy: 0.9685\n",
      "Epoch 4/5\n",
      "\u001b[1m1875/1875\u001b[0m \u001b[32m━━━━━━━━━━━━━━━━━━━━\u001b[0m\u001b[37m\u001b[0m \u001b[1m1s\u001b[0m 438us/step - loss: 0.0677 - sparse_categorical_accuracy: 0.9796 - val_loss: 0.0840 - val_sparse_categorical_accuracy: 0.9745\n",
      "Epoch 5/5\n",
      "\u001b[1m1875/1875\u001b[0m \u001b[32m━━━━━━━━━━━━━━━━━━━━\u001b[0m\u001b[37m\u001b[0m \u001b[1m1s\u001b[0m 431us/step - loss: 0.0564 - sparse_categorical_accuracy: 0.9824 - val_loss: 0.0946 - val_sparse_categorical_accuracy: 0.9724\n"
     ]
    }
   ],
   "source": [
    "model.compile(optimizer = tf.keras.optimizers.Adam(0.001),\n",
    "             loss = tf.keras.losses.sparse_categorical_crossentropy,\n",
    "             metrics = [tf.keras.metrics.sparse_categorical_accuracy])\n",
    "\n",
    "history = model.fit(train_ds, epochs = 5, batch_size = 32, validation_data=(test_ds))"
   ]
  },
  {
   "cell_type": "code",
   "execution_count": 48,
   "id": "d9056213-d8f9-4248-ba9f-4bdda4d1c0cf",
   "metadata": {},
   "outputs": [
    {
     "name": "stdout",
     "output_type": "stream",
     "text": [
      "\u001b[1m313/313\u001b[0m \u001b[32m━━━━━━━━━━━━━━━━━━━━\u001b[0m\u001b[37m\u001b[0m \u001b[1m0s\u001b[0m 341us/step - loss: 0.1093 - sparse_categorical_accuracy: 0.9697\n"
     ]
    },
    {
     "data": {
      "text/plain": [
       "[0.09462504088878632, 0.9724000096321106]"
      ]
     },
     "execution_count": 48,
     "metadata": {},
     "output_type": "execute_result"
    }
   ],
   "source": [
    "# 모델 평가\n",
    "# x_test, y_test로 안 넣고, 데이터셋으로 넣어주면 됨\n",
    "model.evaluate(test_ds)"
   ]
  },
  {
   "cell_type": "code",
   "execution_count": null,
   "id": "2dfbfee4-a680-46aa-a150-f70c8e57a074",
   "metadata": {},
   "outputs": [],
   "source": []
  }
 ],
 "metadata": {
  "kernelspec": {
   "display_name": "Python [conda env:base]",
   "language": "python",
   "name": "conda-base-py"
  },
  "language_info": {
   "codemirror_mode": {
    "name": "ipython",
    "version": 3
   },
   "file_extension": ".py",
   "mimetype": "text/x-python",
   "name": "python",
   "nbconvert_exporter": "python",
   "pygments_lexer": "ipython3",
   "version": "3.12.7"
  }
 },
 "nbformat": 4,
 "nbformat_minor": 5
}
